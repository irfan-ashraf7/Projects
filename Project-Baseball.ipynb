{
 "cells": [
  {
   "cell_type": "markdown",
   "id": "9c991b77",
   "metadata": {},
   "source": [
    "# Base Ball \n",
    "Problem Statement\n",
    "\n",
    "This dataset utilizes data from 2014 Major League Baseball seasons in order to develop an algorithm that predicts the number of wins for a given team in the 2015 season based on several different indicators of success. There are 16 different features that will be used as the inputs to the machine learning and the output will be a value that represents the number of wins.\n",
    "\n",
    "Input features:---- Runs, At Bats, Hits, Doubles, Triples, Homeruns, Walks, Strikeouts, Stolen Bases, Runs Allowed, Earned Runs, Earned Run Average (ERA), Shutouts, Saves, Complete Games and Errors\n",
    "\n",
    "Output:----- Number of predicted wins (W)"
   ]
  },
  {
   "cell_type": "markdown",
   "id": "0c7e85d3",
   "metadata": {},
   "source": [
    "# Importing Required libraries"
   ]
  },
  {
   "cell_type": "code",
   "execution_count": 1,
   "id": "472aeacf",
   "metadata": {},
   "outputs": [],
   "source": [
    "import numpy as np\n",
    "import pandas as pd\n",
    "import matplotlib.pyplot as plt \n",
    "import seaborn as sns\n",
    "%matplotlib inline\n",
    "\n",
    "import warnings\n",
    "warnings.filterwarnings('ignore')"
   ]
  },
  {
   "cell_type": "markdown",
   "id": "871cff63",
   "metadata": {},
   "source": [
    "# Importing Dataset"
   ]
  },
  {
   "cell_type": "code",
   "execution_count": 2,
   "id": "dce047d8",
   "metadata": {},
   "outputs": [
    {
     "data": {
      "text/html": [
       "<div>\n",
       "<style scoped>\n",
       "    .dataframe tbody tr th:only-of-type {\n",
       "        vertical-align: middle;\n",
       "    }\n",
       "\n",
       "    .dataframe tbody tr th {\n",
       "        vertical-align: top;\n",
       "    }\n",
       "\n",
       "    .dataframe thead th {\n",
       "        text-align: right;\n",
       "    }\n",
       "</style>\n",
       "<table border=\"1\" class=\"dataframe\">\n",
       "  <thead>\n",
       "    <tr style=\"text-align: right;\">\n",
       "      <th></th>\n",
       "      <th>W</th>\n",
       "      <th>R</th>\n",
       "      <th>AB</th>\n",
       "      <th>H</th>\n",
       "      <th>2B</th>\n",
       "      <th>3B</th>\n",
       "      <th>HR</th>\n",
       "      <th>BB</th>\n",
       "      <th>SO</th>\n",
       "      <th>SB</th>\n",
       "      <th>RA</th>\n",
       "      <th>ER</th>\n",
       "      <th>ERA</th>\n",
       "      <th>CG</th>\n",
       "      <th>SHO</th>\n",
       "      <th>SV</th>\n",
       "      <th>E</th>\n",
       "    </tr>\n",
       "  </thead>\n",
       "  <tbody>\n",
       "    <tr>\n",
       "      <th>0</th>\n",
       "      <td>95</td>\n",
       "      <td>724</td>\n",
       "      <td>5575</td>\n",
       "      <td>1497</td>\n",
       "      <td>300</td>\n",
       "      <td>42</td>\n",
       "      <td>139</td>\n",
       "      <td>383</td>\n",
       "      <td>973</td>\n",
       "      <td>104</td>\n",
       "      <td>641</td>\n",
       "      <td>601</td>\n",
       "      <td>3.73</td>\n",
       "      <td>2</td>\n",
       "      <td>8</td>\n",
       "      <td>56</td>\n",
       "      <td>88</td>\n",
       "    </tr>\n",
       "    <tr>\n",
       "      <th>1</th>\n",
       "      <td>83</td>\n",
       "      <td>696</td>\n",
       "      <td>5467</td>\n",
       "      <td>1349</td>\n",
       "      <td>277</td>\n",
       "      <td>44</td>\n",
       "      <td>156</td>\n",
       "      <td>439</td>\n",
       "      <td>1264</td>\n",
       "      <td>70</td>\n",
       "      <td>700</td>\n",
       "      <td>653</td>\n",
       "      <td>4.07</td>\n",
       "      <td>2</td>\n",
       "      <td>12</td>\n",
       "      <td>45</td>\n",
       "      <td>86</td>\n",
       "    </tr>\n",
       "    <tr>\n",
       "      <th>2</th>\n",
       "      <td>81</td>\n",
       "      <td>669</td>\n",
       "      <td>5439</td>\n",
       "      <td>1395</td>\n",
       "      <td>303</td>\n",
       "      <td>29</td>\n",
       "      <td>141</td>\n",
       "      <td>533</td>\n",
       "      <td>1157</td>\n",
       "      <td>86</td>\n",
       "      <td>640</td>\n",
       "      <td>584</td>\n",
       "      <td>3.67</td>\n",
       "      <td>11</td>\n",
       "      <td>10</td>\n",
       "      <td>38</td>\n",
       "      <td>79</td>\n",
       "    </tr>\n",
       "    <tr>\n",
       "      <th>3</th>\n",
       "      <td>76</td>\n",
       "      <td>622</td>\n",
       "      <td>5533</td>\n",
       "      <td>1381</td>\n",
       "      <td>260</td>\n",
       "      <td>27</td>\n",
       "      <td>136</td>\n",
       "      <td>404</td>\n",
       "      <td>1231</td>\n",
       "      <td>68</td>\n",
       "      <td>701</td>\n",
       "      <td>643</td>\n",
       "      <td>3.98</td>\n",
       "      <td>7</td>\n",
       "      <td>9</td>\n",
       "      <td>37</td>\n",
       "      <td>101</td>\n",
       "    </tr>\n",
       "    <tr>\n",
       "      <th>4</th>\n",
       "      <td>74</td>\n",
       "      <td>689</td>\n",
       "      <td>5605</td>\n",
       "      <td>1515</td>\n",
       "      <td>289</td>\n",
       "      <td>49</td>\n",
       "      <td>151</td>\n",
       "      <td>455</td>\n",
       "      <td>1259</td>\n",
       "      <td>83</td>\n",
       "      <td>803</td>\n",
       "      <td>746</td>\n",
       "      <td>4.64</td>\n",
       "      <td>7</td>\n",
       "      <td>12</td>\n",
       "      <td>35</td>\n",
       "      <td>86</td>\n",
       "    </tr>\n",
       "  </tbody>\n",
       "</table>\n",
       "</div>"
      ],
      "text/plain": [
       "    W    R    AB     H   2B  3B   HR   BB    SO   SB   RA   ER   ERA  CG  SHO  \\\n",
       "0  95  724  5575  1497  300  42  139  383   973  104  641  601  3.73   2    8   \n",
       "1  83  696  5467  1349  277  44  156  439  1264   70  700  653  4.07   2   12   \n",
       "2  81  669  5439  1395  303  29  141  533  1157   86  640  584  3.67  11   10   \n",
       "3  76  622  5533  1381  260  27  136  404  1231   68  701  643  3.98   7    9   \n",
       "4  74  689  5605  1515  289  49  151  455  1259   83  803  746  4.64   7   12   \n",
       "\n",
       "   SV    E  \n",
       "0  56   88  \n",
       "1  45   86  \n",
       "2  38   79  \n",
       "3  37  101  \n",
       "4  35   86  "
      ]
     },
     "execution_count": 2,
     "metadata": {},
     "output_type": "execute_result"
    }
   ],
   "source": [
    "df=pd.read_csv('baseball.csv')\n",
    "df.head()"
   ]
  },
  {
   "cell_type": "code",
   "execution_count": 3,
   "id": "ba5ebac8",
   "metadata": {},
   "outputs": [
    {
     "data": {
      "text/plain": [
       "(30, 17)"
      ]
     },
     "execution_count": 3,
     "metadata": {},
     "output_type": "execute_result"
    }
   ],
   "source": [
    "df.shape"
   ]
  },
  {
   "cell_type": "markdown",
   "id": "61e73458",
   "metadata": {},
   "source": [
    " The dataset is having 30 rows and 17 columns"
   ]
  },
  {
   "cell_type": "code",
   "execution_count": 4,
   "id": "36a9099c",
   "metadata": {},
   "outputs": [
    {
     "data": {
      "text/plain": [
       "W        int64\n",
       "R        int64\n",
       "AB       int64\n",
       "H        int64\n",
       "2B       int64\n",
       "3B       int64\n",
       "HR       int64\n",
       "BB       int64\n",
       "SO       int64\n",
       "SB       int64\n",
       "RA       int64\n",
       "ER       int64\n",
       "ERA    float64\n",
       "CG       int64\n",
       "SHO      int64\n",
       "SV       int64\n",
       "E        int64\n",
       "dtype: object"
      ]
     },
     "execution_count": 4,
     "metadata": {},
     "output_type": "execute_result"
    }
   ],
   "source": [
    "df.dtypes"
   ]
  },
  {
   "cell_type": "markdown",
   "id": "c94be105",
   "metadata": {},
   "source": [
    "We can see that all features are integer(int64) datatype except ERA column and target variable W is also int datatype"
   ]
  },
  {
   "cell_type": "code",
   "execution_count": 5,
   "id": "449e17c3",
   "metadata": {},
   "outputs": [
    {
     "data": {
      "text/plain": [
       "W      0\n",
       "R      0\n",
       "AB     0\n",
       "H      0\n",
       "2B     0\n",
       "3B     0\n",
       "HR     0\n",
       "BB     0\n",
       "SO     0\n",
       "SB     0\n",
       "RA     0\n",
       "ER     0\n",
       "ERA    0\n",
       "CG     0\n",
       "SHO    0\n",
       "SV     0\n",
       "E      0\n",
       "dtype: int64"
      ]
     },
     "execution_count": 5,
     "metadata": {},
     "output_type": "execute_result"
    }
   ],
   "source": [
    "#Checking null values\n",
    "df.isna().sum()"
   ]
  },
  {
   "cell_type": "markdown",
   "id": "069eef31",
   "metadata": {},
   "source": [
    "We can observe that there are no null values in dataset"
   ]
  },
  {
   "cell_type": "code",
   "execution_count": 6,
   "id": "9ea63442",
   "metadata": {},
   "outputs": [
    {
     "data": {
      "text/html": [
       "<div>\n",
       "<style scoped>\n",
       "    .dataframe tbody tr th:only-of-type {\n",
       "        vertical-align: middle;\n",
       "    }\n",
       "\n",
       "    .dataframe tbody tr th {\n",
       "        vertical-align: top;\n",
       "    }\n",
       "\n",
       "    .dataframe thead th {\n",
       "        text-align: right;\n",
       "    }\n",
       "</style>\n",
       "<table border=\"1\" class=\"dataframe\">\n",
       "  <thead>\n",
       "    <tr style=\"text-align: right;\">\n",
       "      <th></th>\n",
       "      <th>count</th>\n",
       "      <th>mean</th>\n",
       "      <th>std</th>\n",
       "      <th>min</th>\n",
       "      <th>25%</th>\n",
       "      <th>50%</th>\n",
       "      <th>75%</th>\n",
       "      <th>max</th>\n",
       "    </tr>\n",
       "  </thead>\n",
       "  <tbody>\n",
       "    <tr>\n",
       "      <th>W</th>\n",
       "      <td>30.0</td>\n",
       "      <td>80.966667</td>\n",
       "      <td>10.453455</td>\n",
       "      <td>63.00</td>\n",
       "      <td>74.0000</td>\n",
       "      <td>81.000</td>\n",
       "      <td>87.75</td>\n",
       "      <td>100.00</td>\n",
       "    </tr>\n",
       "    <tr>\n",
       "      <th>R</th>\n",
       "      <td>30.0</td>\n",
       "      <td>688.233333</td>\n",
       "      <td>58.761754</td>\n",
       "      <td>573.00</td>\n",
       "      <td>651.2500</td>\n",
       "      <td>689.000</td>\n",
       "      <td>718.25</td>\n",
       "      <td>891.00</td>\n",
       "    </tr>\n",
       "    <tr>\n",
       "      <th>AB</th>\n",
       "      <td>30.0</td>\n",
       "      <td>5516.266667</td>\n",
       "      <td>70.467372</td>\n",
       "      <td>5385.00</td>\n",
       "      <td>5464.0000</td>\n",
       "      <td>5510.000</td>\n",
       "      <td>5570.00</td>\n",
       "      <td>5649.00</td>\n",
       "    </tr>\n",
       "    <tr>\n",
       "      <th>H</th>\n",
       "      <td>30.0</td>\n",
       "      <td>1403.533333</td>\n",
       "      <td>57.140923</td>\n",
       "      <td>1324.00</td>\n",
       "      <td>1363.0000</td>\n",
       "      <td>1382.500</td>\n",
       "      <td>1451.50</td>\n",
       "      <td>1515.00</td>\n",
       "    </tr>\n",
       "    <tr>\n",
       "      <th>2B</th>\n",
       "      <td>30.0</td>\n",
       "      <td>274.733333</td>\n",
       "      <td>18.095405</td>\n",
       "      <td>236.00</td>\n",
       "      <td>262.2500</td>\n",
       "      <td>275.500</td>\n",
       "      <td>288.75</td>\n",
       "      <td>308.00</td>\n",
       "    </tr>\n",
       "    <tr>\n",
       "      <th>3B</th>\n",
       "      <td>30.0</td>\n",
       "      <td>31.300000</td>\n",
       "      <td>10.452355</td>\n",
       "      <td>13.00</td>\n",
       "      <td>23.0000</td>\n",
       "      <td>31.000</td>\n",
       "      <td>39.00</td>\n",
       "      <td>49.00</td>\n",
       "    </tr>\n",
       "    <tr>\n",
       "      <th>HR</th>\n",
       "      <td>30.0</td>\n",
       "      <td>163.633333</td>\n",
       "      <td>31.823309</td>\n",
       "      <td>100.00</td>\n",
       "      <td>140.2500</td>\n",
       "      <td>158.500</td>\n",
       "      <td>177.00</td>\n",
       "      <td>232.00</td>\n",
       "    </tr>\n",
       "    <tr>\n",
       "      <th>BB</th>\n",
       "      <td>30.0</td>\n",
       "      <td>469.100000</td>\n",
       "      <td>57.053725</td>\n",
       "      <td>375.00</td>\n",
       "      <td>428.2500</td>\n",
       "      <td>473.000</td>\n",
       "      <td>501.25</td>\n",
       "      <td>570.00</td>\n",
       "    </tr>\n",
       "    <tr>\n",
       "      <th>SO</th>\n",
       "      <td>30.0</td>\n",
       "      <td>1248.200000</td>\n",
       "      <td>103.759470</td>\n",
       "      <td>973.00</td>\n",
       "      <td>1157.5000</td>\n",
       "      <td>1261.500</td>\n",
       "      <td>1311.50</td>\n",
       "      <td>1518.00</td>\n",
       "    </tr>\n",
       "    <tr>\n",
       "      <th>SB</th>\n",
       "      <td>30.0</td>\n",
       "      <td>83.500000</td>\n",
       "      <td>22.815225</td>\n",
       "      <td>44.00</td>\n",
       "      <td>69.0000</td>\n",
       "      <td>83.500</td>\n",
       "      <td>96.50</td>\n",
       "      <td>134.00</td>\n",
       "    </tr>\n",
       "    <tr>\n",
       "      <th>RA</th>\n",
       "      <td>30.0</td>\n",
       "      <td>688.233333</td>\n",
       "      <td>72.108005</td>\n",
       "      <td>525.00</td>\n",
       "      <td>636.2500</td>\n",
       "      <td>695.500</td>\n",
       "      <td>732.50</td>\n",
       "      <td>844.00</td>\n",
       "    </tr>\n",
       "    <tr>\n",
       "      <th>ER</th>\n",
       "      <td>30.0</td>\n",
       "      <td>635.833333</td>\n",
       "      <td>70.140786</td>\n",
       "      <td>478.00</td>\n",
       "      <td>587.2500</td>\n",
       "      <td>644.500</td>\n",
       "      <td>679.25</td>\n",
       "      <td>799.00</td>\n",
       "    </tr>\n",
       "    <tr>\n",
       "      <th>ERA</th>\n",
       "      <td>30.0</td>\n",
       "      <td>3.956333</td>\n",
       "      <td>0.454089</td>\n",
       "      <td>2.94</td>\n",
       "      <td>3.6825</td>\n",
       "      <td>4.025</td>\n",
       "      <td>4.22</td>\n",
       "      <td>5.04</td>\n",
       "    </tr>\n",
       "    <tr>\n",
       "      <th>CG</th>\n",
       "      <td>30.0</td>\n",
       "      <td>3.466667</td>\n",
       "      <td>2.763473</td>\n",
       "      <td>0.00</td>\n",
       "      <td>1.0000</td>\n",
       "      <td>3.000</td>\n",
       "      <td>5.75</td>\n",
       "      <td>11.00</td>\n",
       "    </tr>\n",
       "    <tr>\n",
       "      <th>SHO</th>\n",
       "      <td>30.0</td>\n",
       "      <td>11.300000</td>\n",
       "      <td>4.120177</td>\n",
       "      <td>4.00</td>\n",
       "      <td>9.0000</td>\n",
       "      <td>12.000</td>\n",
       "      <td>13.00</td>\n",
       "      <td>21.00</td>\n",
       "    </tr>\n",
       "    <tr>\n",
       "      <th>SV</th>\n",
       "      <td>30.0</td>\n",
       "      <td>43.066667</td>\n",
       "      <td>7.869335</td>\n",
       "      <td>28.00</td>\n",
       "      <td>37.2500</td>\n",
       "      <td>42.000</td>\n",
       "      <td>46.75</td>\n",
       "      <td>62.00</td>\n",
       "    </tr>\n",
       "    <tr>\n",
       "      <th>E</th>\n",
       "      <td>30.0</td>\n",
       "      <td>94.333333</td>\n",
       "      <td>13.958889</td>\n",
       "      <td>75.00</td>\n",
       "      <td>86.0000</td>\n",
       "      <td>91.000</td>\n",
       "      <td>96.75</td>\n",
       "      <td>126.00</td>\n",
       "    </tr>\n",
       "  </tbody>\n",
       "</table>\n",
       "</div>"
      ],
      "text/plain": [
       "     count         mean         std      min        25%       50%      75%  \\\n",
       "W     30.0    80.966667   10.453455    63.00    74.0000    81.000    87.75   \n",
       "R     30.0   688.233333   58.761754   573.00   651.2500   689.000   718.25   \n",
       "AB    30.0  5516.266667   70.467372  5385.00  5464.0000  5510.000  5570.00   \n",
       "H     30.0  1403.533333   57.140923  1324.00  1363.0000  1382.500  1451.50   \n",
       "2B    30.0   274.733333   18.095405   236.00   262.2500   275.500   288.75   \n",
       "3B    30.0    31.300000   10.452355    13.00    23.0000    31.000    39.00   \n",
       "HR    30.0   163.633333   31.823309   100.00   140.2500   158.500   177.00   \n",
       "BB    30.0   469.100000   57.053725   375.00   428.2500   473.000   501.25   \n",
       "SO    30.0  1248.200000  103.759470   973.00  1157.5000  1261.500  1311.50   \n",
       "SB    30.0    83.500000   22.815225    44.00    69.0000    83.500    96.50   \n",
       "RA    30.0   688.233333   72.108005   525.00   636.2500   695.500   732.50   \n",
       "ER    30.0   635.833333   70.140786   478.00   587.2500   644.500   679.25   \n",
       "ERA   30.0     3.956333    0.454089     2.94     3.6825     4.025     4.22   \n",
       "CG    30.0     3.466667    2.763473     0.00     1.0000     3.000     5.75   \n",
       "SHO   30.0    11.300000    4.120177     4.00     9.0000    12.000    13.00   \n",
       "SV    30.0    43.066667    7.869335    28.00    37.2500    42.000    46.75   \n",
       "E     30.0    94.333333   13.958889    75.00    86.0000    91.000    96.75   \n",
       "\n",
       "         max  \n",
       "W     100.00  \n",
       "R     891.00  \n",
       "AB   5649.00  \n",
       "H    1515.00  \n",
       "2B    308.00  \n",
       "3B     49.00  \n",
       "HR    232.00  \n",
       "BB    570.00  \n",
       "SO   1518.00  \n",
       "SB    134.00  \n",
       "RA    844.00  \n",
       "ER    799.00  \n",
       "ERA     5.04  \n",
       "CG     11.00  \n",
       "SHO    21.00  \n",
       "SV     62.00  \n",
       "E     126.00  "
      ]
     },
     "execution_count": 6,
     "metadata": {},
     "output_type": "execute_result"
    }
   ],
   "source": [
    "#Describing the dataset\n",
    "df.describe().T"
   ]
  },
  {
   "cell_type": "code",
   "execution_count": 7,
   "id": "bde5d533",
   "metadata": {},
   "outputs": [
    {
     "data": {
      "text/plain": [
       "Index(['W', 'R', 'AB', 'H', '2B', '3B', 'HR', 'BB', 'SO', 'SB', 'RA', 'ER',\n",
       "       'ERA', 'CG', 'SHO', 'SV', 'E'],\n",
       "      dtype='object')"
      ]
     },
     "execution_count": 7,
     "metadata": {},
     "output_type": "execute_result"
    }
   ],
   "source": [
    "df.columns"
   ]
  },
  {
   "cell_type": "markdown",
   "id": "f2da46f2",
   "metadata": {},
   "source": [
    " Runs, At Bats, Hits, Doubles, Triples, Homeruns, Walks, Strikeouts, Stolen Bases, Runs Allowed, Earned Runs, Earned Run Average (ERA), Shutouts, Saves, Complete Games and Errors"
   ]
  },
  {
   "cell_type": "code",
   "execution_count": 8,
   "id": "867bbd7e",
   "metadata": {},
   "outputs": [
    {
     "name": "stdout",
     "output_type": "stream",
     "text": [
      "<class 'pandas.core.frame.DataFrame'>\n",
      "RangeIndex: 30 entries, 0 to 29\n",
      "Data columns (total 17 columns):\n",
      " #   Column  Non-Null Count  Dtype  \n",
      "---  ------  --------------  -----  \n",
      " 0   W       30 non-null     int64  \n",
      " 1   R       30 non-null     int64  \n",
      " 2   AB      30 non-null     int64  \n",
      " 3   H       30 non-null     int64  \n",
      " 4   2B      30 non-null     int64  \n",
      " 5   3B      30 non-null     int64  \n",
      " 6   HR      30 non-null     int64  \n",
      " 7   BB      30 non-null     int64  \n",
      " 8   SO      30 non-null     int64  \n",
      " 9   SB      30 non-null     int64  \n",
      " 10  RA      30 non-null     int64  \n",
      " 11  ER      30 non-null     int64  \n",
      " 12  ERA     30 non-null     float64\n",
      " 13  CG      30 non-null     int64  \n",
      " 14  SHO     30 non-null     int64  \n",
      " 15  SV      30 non-null     int64  \n",
      " 16  E       30 non-null     int64  \n",
      "dtypes: float64(1), int64(16)\n",
      "memory usage: 4.1 KB\n"
     ]
    }
   ],
   "source": [
    "df.info()"
   ]
  },
  {
   "cell_type": "markdown",
   "id": "a620bfb1",
   "metadata": {},
   "source": [
    "# EDA"
   ]
  },
  {
   "cell_type": "markdown",
   "id": "056e8f53",
   "metadata": {},
   "source": [
    "### Plotting Distribution curve"
   ]
  },
  {
   "cell_type": "code",
   "execution_count": 9,
   "id": "2bfaf433",
   "metadata": {},
   "outputs": [
    {
     "data": {
      "image/png": "[encoded data removed]",
      "text/plain": [
       "<Figure size 1800x2160 with 16 Axes>"
      ]
     },
     "metadata": {},
     "output_type": "display_data"
    }
   ],
   "source": [
    "plt.figure(figsize=(25,30),facecolor='red')\n",
    "plotnumber=1\n",
    "\n",
    "for column in df:\n",
    "    if plotnumber<=16:\n",
    "        ax=plt.subplot(4,4,plotnumber)\n",
    "        sns.distplot(df[column])\n",
    "    plotnumber=plotnumber+1\n",
    "\n",
    "plt.show()"
   ]
  },
  {
   "cell_type": "raw",
   "id": "f2e8f52b",
   "metadata": {},
   "source": [
    "We can observe that\n",
    "1)columns( 'W', 'BB', '3B', 'ERA') looks normally distributed and no skewness\n",
    "\n",
    "2)columns('HR','ER','RA','SO') are skewed to left\n",
    "\n",
    "4)columns('R','AB','H','2B','SB','SHO','SV','CG') are skewed to right."
   ]
  },
  {
   "cell_type": "code",
   "execution_count": 10,
   "id": "c8467824",
   "metadata": {},
   "outputs": [
    {
     "data": {
      "text/plain": [
       "array([ 95,  83,  81,  76,  74,  93,  87,  80,  78,  88,  86,  85,  68,\n",
       "       100,  98,  97,  64,  90,  71,  67,  63,  92,  84,  79], dtype=int64)"
      ]
     },
     "execution_count": 10,
     "metadata": {},
     "output_type": "execute_result"
    }
   ],
   "source": [
    "df['W'].unique()"
   ]
  },
  {
   "cell_type": "code",
   "execution_count": 11,
   "id": "ec92fcc6",
   "metadata": {},
   "outputs": [
    {
     "name": "stdout",
     "output_type": "stream",
     "text": [
      "68     3\n",
      "81     2\n",
      "76     2\n",
      "74     2\n",
      "83     2\n",
      "98     1\n",
      "84     1\n",
      "92     1\n",
      "63     1\n",
      "67     1\n",
      "71     1\n",
      "90     1\n",
      "64     1\n",
      "97     1\n",
      "95     1\n",
      "100    1\n",
      "85     1\n",
      "86     1\n",
      "88     1\n",
      "78     1\n",
      "80     1\n",
      "87     1\n",
      "93     1\n",
      "79     1\n",
      "Name: W, dtype: int64\n"
     ]
    },
    {
     "data": {
      "image/png": "[encoded data removed]",
      "text/plain": [
       "<Figure size 432x288 with 1 Axes>"
      ]
     },
     "metadata": {
      "needs_background": "light"
     },
     "output_type": "display_data"
    }
   ],
   "source": [
    "#PLotting countplot for target varibale\n",
    "ax=sns.countplot(x='W',data=df)\n",
    "print(df['W'].value_counts())"
   ]
  },
  {
   "cell_type": "markdown",
   "id": "486f7be8",
   "metadata": {},
   "source": [
    "From above plotting we oberved that maximumn number of wins is 68"
   ]
  },
  {
   "cell_type": "markdown",
   "id": "7951df76",
   "metadata": {},
   "source": [
    "### Plotting Histogram"
   ]
  },
  {
   "cell_type": "code",
   "execution_count": 12,
   "id": "31274779",
   "metadata": {},
   "outputs": [
    {
     "data": {
      "image/png": "[encoded data removed]",
      "text/plain": [
       "<Figure size 1800x2160 with 16 Axes>"
      ]
     },
     "metadata": {},
     "output_type": "display_data"
    }
   ],
   "source": [
    "plt.figure(figsize=(25,30),facecolor='red')\n",
    "plotnumber=1\n",
    "\n",
    "for column in df:\n",
    "    if plotnumber<=16:\n",
    "        ax=plt.subplot(4,4,plotnumber)\n",
    "        plt.hist(df[column])\n",
    "    plotnumber=plotnumber+1\n",
    "\n",
    "plt.show()"
   ]
  },
  {
   "cell_type": "markdown",
   "id": "6dfe0576",
   "metadata": {},
   "source": [
    "# Bivariate Analysis"
   ]
  },
  {
   "cell_type": "markdown",
   "id": "b4cf7677",
   "metadata": {},
   "source": [
    "### Plotting Scatterplot(Between target variable and features)"
   ]
  },
  {
   "cell_type": "code",
   "execution_count": 13,
   "id": "86bf2cea",
   "metadata": {},
   "outputs": [
    {
     "data": {
      "image/png": "[encoded data removed]",
      "text/plain": [
       "<Figure size 1800x2160 with 16 Axes>"
      ]
     },
     "metadata": {},
     "output_type": "display_data"
    }
   ],
   "source": [
    "plt.figure(figsize=(25,30),facecolor='red')\n",
    "plotnumber=1\n",
    "\n",
    "for column in df[1:]:\n",
    "    if plotnumber<=16:\n",
    "        ax=plt.subplot(4,4,plotnumber)\n",
    "        sns.scatterplot(df['W'],df[column])\n",
    "    plotnumber=plotnumber+1\n",
    "\n",
    "plt.show()"
   ]
  },
  {
   "cell_type": "markdown",
   "id": "5d1888f4",
   "metadata": {},
   "source": [
    "From above observation we can observe that columns['RA','ER','ERA'] are indirecttly proportional to target variable 'W' and column(SV) is directly proportinal to target vriable 'W'"
   ]
  },
  {
   "cell_type": "markdown",
   "id": "b64b6630",
   "metadata": {},
   "source": [
    "## Plotting Scatterplot(among features)"
   ]
  },
  {
   "cell_type": "code",
   "execution_count": 14,
   "id": "dd0e63db",
   "metadata": {},
   "outputs": [
    {
     "data": {
      "text/plain": [
       "<AxesSubplot:xlabel='ER', ylabel='ERA'>"
      ]
     },
     "execution_count": 14,
     "metadata": {},
     "output_type": "execute_result"
    },
    {
     "data": {
      "image/png": "[encoded data removed]",
      "text/plain": [
       "<Figure size 432x288 with 1 Axes>"
      ]
     },
     "metadata": {
      "needs_background": "light"
     },
     "output_type": "display_data"
    }
   ],
   "source": [
    " sns.scatterplot(df['ER'],df['ERA'])"
   ]
  },
  {
   "cell_type": "code",
   "execution_count": 15,
   "id": "1011edf0",
   "metadata": {},
   "outputs": [
    {
     "data": {
      "text/plain": [
       "<AxesSubplot:xlabel='SHO', ylabel='SV'>"
      ]
     },
     "execution_count": 15,
     "metadata": {},
     "output_type": "execute_result"
    },
    {
     "data": {
      "image/png": "[encoded data removed]",
      "text/plain": [
       "<Figure size 432x288 with 1 Axes>"
      ]
     },
     "metadata": {
      "needs_background": "light"
     },
     "output_type": "display_data"
    }
   ],
   "source": [
    "sns.scatterplot(df['SHO'],df['SV'])"
   ]
  },
  {
   "cell_type": "code",
   "execution_count": 16,
   "id": "c71bd32d",
   "metadata": {},
   "outputs": [
    {
     "data": {
      "text/plain": [
       "<AxesSubplot:xlabel='2B', ylabel='3B'>"
      ]
     },
     "execution_count": 16,
     "metadata": {},
     "output_type": "execute_result"
    },
    {
     "data": {
      "image/png": "[encoded data removed]",
      "text/plain": [
       "<Figure size 432x288 with 1 Axes>"
      ]
     },
     "metadata": {
      "needs_background": "light"
     },
     "output_type": "display_data"
    }
   ],
   "source": [
    "sns.scatterplot(df['2B'],df['3B'])"
   ]
  },
  {
   "cell_type": "markdown",
   "id": "5c8d9b6b",
   "metadata": {},
   "source": [
    "# Checking for Skewness"
   ]
  },
  {
   "cell_type": "code",
   "execution_count": 17,
   "id": "ca585424",
   "metadata": {},
   "outputs": [
    {
     "data": {
      "text/plain": [
       "W      0.047089\n",
       "R      1.200786\n",
       "AB     0.183437\n",
       "H      0.670254\n",
       "2B    -0.230650\n",
       "3B     0.129502\n",
       "HR     0.516441\n",
       "BB     0.158498\n",
       "SO    -0.156065\n",
       "SB     0.479893\n",
       "RA     0.045734\n",
       "ER     0.058710\n",
       "ERA    0.053331\n",
       "CG     0.736845\n",
       "SHO    0.565790\n",
       "SV     0.657524\n",
       "E      0.890132\n",
       "dtype: float64"
      ]
     },
     "execution_count": 17,
     "metadata": {},
     "output_type": "execute_result"
    }
   ],
   "source": [
    "df.skew()"
   ]
  },
  {
   "cell_type": "markdown",
   "id": "cd7d7762",
   "metadata": {},
   "source": [
    "Setting skewness limits to -0.65 to +0.65\n",
    "We can observer that only column(\"R\") is higly skewed"
   ]
  },
  {
   "cell_type": "markdown",
   "id": "914e0264",
   "metadata": {},
   "source": [
    "# Checking for Corrrelation"
   ]
  },
  {
   "cell_type": "markdown",
   "id": "a3241265",
   "metadata": {},
   "source": [
    "### Plotting heatmap"
   ]
  },
  {
   "cell_type": "code",
   "execution_count": 18,
   "id": "67adcba2",
   "metadata": {},
   "outputs": [
    {
     "data": {
      "image/png": "[encoded data removed]",
      "text/plain": [
       "<Figure size 1800x2160 with 2 Axes>"
      ]
     },
     "metadata": {
      "needs_background": "light"
     },
     "output_type": "display_data"
    }
   ],
   "source": [
    "plt.figure(figsize=(25,30))\n",
    "sns.heatmap(df.corr(),annot=True,linewidths=0.5,linecolor='black',fmt='.2f')\n",
    "plt.title(\"Correlation matrix\")\n",
    "plt.savefig('Correlation matrix.jpg')\n",
    "plt.show()"
   ]
  },
  {
   "cell_type": "raw",
   "id": "4094b874",
   "metadata": {},
   "source": [
    "We can observe that column['RA','ER','ERA'] are directly related to each other. \n",
    "column('ERA') is  having  highest relatonship with the target varibale (81%)\n",
    "column('H') is having lowest relationship with the target varibale (4%)\n",
    "\n",
    "We will drop 'RA' and 'ER' among 3 beacuse ERA is having highest realatonship with target varibale.\n",
    "\n",
    "From the above plot we can conclude the following points--\n",
    "\n",
    "the target column 'W'Is moderate negatively corelated with ('E, SB, 3B, AND AB)\n",
    "\n",
    "the target column 'W' is highly negative corelated with ('ERA, 'ER', 'RA')\n",
    "\n",
    "The target column 'W' is positively corelated with ('SV', 'SHO', 'BB', 'HR', '2B', 'R', 'SO )\n",
    "\n",
    "If look at featute to feature relationship, it can be observed that column 'ERA', 'ER', 'RA' are highly corelated with each other\n",
    "\n"
   ]
  },
  {
   "cell_type": "markdown",
   "id": "e4b9ddfc",
   "metadata": {},
   "source": [
    "# Checking the columns which are positively and negatively related to target varibale"
   ]
  },
  {
   "cell_type": "code",
   "execution_count": 19,
   "id": "2254b1f1",
   "metadata": {},
   "outputs": [
    {
     "data": {
      "image/png": "[encoded data removed]",
      "text/plain": [
       "<Figure size 1800x720 with 1 Axes>"
      ]
     },
     "metadata": {
      "needs_background": "light"
     },
     "output_type": "display_data"
    }
   ],
   "source": [
    "plt.figure(figsize=(25,10))\n",
    "df.corr()['W'].sort_values(ascending=False).drop(['W']).plot(kind='bar',color='c')\n",
    "plt.xlabel('Feature',fontsize=14)\n",
    "plt.ylabel('column with target names',fontsize=18)\n",
    "plt.title('Correlation')\n",
    "plt.show()\n",
    "\n"
   ]
  },
  {
   "cell_type": "raw",
   "id": "1c485070",
   "metadata": {},
   "source": [
    "We can observe that:- \n",
    "    Columns('SV','BB','SHO','R','2B','HR','SO','CG','H') are positively related to target variable\n",
    "    Columns('AB','E','SB','3B','ER','RA','ERA' are positively related to target variable\n"
   ]
  },
  {
   "cell_type": "markdown",
   "id": "91b200cc",
   "metadata": {},
   "source": [
    "# Checking for outliers"
   ]
  },
  {
   "cell_type": "code",
   "execution_count": 20,
   "id": "2aaafac9",
   "metadata": {},
   "outputs": [
    {
     "data": {
      "image/png": "[encoded data removed]",
      "text/plain": [
       "<Figure size 1440x1800 with 16 Axes>"
      ]
     },
     "metadata": {
      "needs_background": "light"
     },
     "output_type": "display_data"
    }
   ],
   "source": [
    "graph=1\n",
    "\n",
    "plt.figure(figsize=(20,25))\n",
    "\n",
    "for column in df:\n",
    "    if graph<=16:\n",
    "        plt.subplot(4,4,graph)\n",
    "        ax=sns.boxplot(data=df[column])\n",
    "        plt.xlabel(column)\n",
    "    graph+=1\n",
    "plt.show()"
   ]
  },
  {
   "cell_type": "markdown",
   "id": "e253ada5",
   "metadata": {},
   "source": [
    "We can observe that columns('R','ERA','SHO','SV') are having outliers"
   ]
  },
  {
   "cell_type": "markdown",
   "id": "a52dc532",
   "metadata": {},
   "source": [
    "# Data Preprocessing"
   ]
  },
  {
   "cell_type": "markdown",
   "id": "113f9b3b",
   "metadata": {},
   "source": [
    "## Removing Outliers using Z-technique"
   ]
  },
  {
   "cell_type": "code",
   "execution_count": 21,
   "id": "6c915cab",
   "metadata": {},
   "outputs": [
    {
     "data": {
      "text/html": [
       "<div>\n",
       "<style scoped>\n",
       "    .dataframe tbody tr th:only-of-type {\n",
       "        vertical-align: middle;\n",
       "    }\n",
       "\n",
       "    .dataframe tbody tr th {\n",
       "        vertical-align: top;\n",
       "    }\n",
       "\n",
       "    .dataframe thead th {\n",
       "        text-align: right;\n",
       "    }\n",
       "</style>\n",
       "<table border=\"1\" class=\"dataframe\">\n",
       "  <thead>\n",
       "    <tr style=\"text-align: right;\">\n",
       "      <th></th>\n",
       "      <th>W</th>\n",
       "      <th>R</th>\n",
       "      <th>AB</th>\n",
       "      <th>H</th>\n",
       "      <th>2B</th>\n",
       "      <th>3B</th>\n",
       "      <th>HR</th>\n",
       "      <th>BB</th>\n",
       "      <th>SO</th>\n",
       "      <th>SB</th>\n",
       "      <th>RA</th>\n",
       "      <th>ER</th>\n",
       "      <th>ERA</th>\n",
       "      <th>CG</th>\n",
       "      <th>SHO</th>\n",
       "      <th>SV</th>\n",
       "      <th>E</th>\n",
       "    </tr>\n",
       "  </thead>\n",
       "  <tbody>\n",
       "    <tr>\n",
       "      <th>0</th>\n",
       "      <td>1.365409</td>\n",
       "      <td>0.619078</td>\n",
       "      <td>0.847731</td>\n",
       "      <td>1.663685</td>\n",
       "      <td>1.420173</td>\n",
       "      <td>1.041193</td>\n",
       "      <td>0.787299</td>\n",
       "      <td>1.534902</td>\n",
       "      <td>2.697630</td>\n",
       "      <td>0.913883</td>\n",
       "      <td>0.666234</td>\n",
       "      <td>0.505110</td>\n",
       "      <td>0.506955</td>\n",
       "      <td>0.539806</td>\n",
       "      <td>0.814629</td>\n",
       "      <td>1.671607</td>\n",
       "      <td>0.461470</td>\n",
       "    </tr>\n",
       "    <tr>\n",
       "      <th>1</th>\n",
       "      <td>0.197838</td>\n",
       "      <td>0.134432</td>\n",
       "      <td>0.711094</td>\n",
       "      <td>0.970681</td>\n",
       "      <td>0.127403</td>\n",
       "      <td>1.235809</td>\n",
       "      <td>0.243967</td>\n",
       "      <td>0.536592</td>\n",
       "      <td>0.154878</td>\n",
       "      <td>0.601826</td>\n",
       "      <td>0.165971</td>\n",
       "      <td>0.248930</td>\n",
       "      <td>0.254598</td>\n",
       "      <td>0.539806</td>\n",
       "      <td>0.172800</td>\n",
       "      <td>0.249879</td>\n",
       "      <td>0.607197</td>\n",
       "    </tr>\n",
       "    <tr>\n",
       "      <th>2</th>\n",
       "      <td>0.003243</td>\n",
       "      <td>0.332906</td>\n",
       "      <td>1.115233</td>\n",
       "      <td>0.151891</td>\n",
       "      <td>1.588795</td>\n",
       "      <td>0.223808</td>\n",
       "      <td>0.723377</td>\n",
       "      <td>1.139144</td>\n",
       "      <td>0.893982</td>\n",
       "      <td>0.111449</td>\n",
       "      <td>0.680339</td>\n",
       "      <td>0.751623</td>\n",
       "      <td>0.641347</td>\n",
       "      <td>2.772641</td>\n",
       "      <td>0.320914</td>\n",
       "      <td>0.654856</td>\n",
       "      <td>1.117242</td>\n",
       "    </tr>\n",
       "    <tr>\n",
       "      <th>3</th>\n",
       "      <td>0.483244</td>\n",
       "      <td>1.146419</td>\n",
       "      <td>0.241522</td>\n",
       "      <td>0.401088</td>\n",
       "      <td>0.828122</td>\n",
       "      <td>0.418423</td>\n",
       "      <td>0.883181</td>\n",
       "      <td>1.160536</td>\n",
       "      <td>0.168602</td>\n",
       "      <td>0.690985</td>\n",
       "      <td>0.180076</td>\n",
       "      <td>0.103922</td>\n",
       "      <td>0.053010</td>\n",
       "      <td>1.300442</td>\n",
       "      <td>0.567771</td>\n",
       "      <td>0.784104</td>\n",
       "      <td>0.485758</td>\n",
       "    </tr>\n",
       "    <tr>\n",
       "      <th>4</th>\n",
       "      <td>0.677839</td>\n",
       "      <td>0.013270</td>\n",
       "      <td>1.280738</td>\n",
       "      <td>1.984081</td>\n",
       "      <td>0.801892</td>\n",
       "      <td>1.722347</td>\n",
       "      <td>0.403770</td>\n",
       "      <td>0.251360</td>\n",
       "      <td>0.105866</td>\n",
       "      <td>0.022290</td>\n",
       "      <td>1.618803</td>\n",
       "      <td>1.597501</td>\n",
       "      <td>1.531318</td>\n",
       "      <td>1.300442</td>\n",
       "      <td>0.172800</td>\n",
       "      <td>1.042600</td>\n",
       "      <td>0.607197</td>\n",
       "    </tr>\n",
       "    <tr>\n",
       "      <th>5</th>\n",
       "      <td>1.170814</td>\n",
       "      <td>3.509647</td>\n",
       "      <td>0.104884</td>\n",
       "      <td>1.361089</td>\n",
       "      <td>1.869832</td>\n",
       "      <td>1.391501</td>\n",
       "      <td>2.185047</td>\n",
       "      <td>1.798742</td>\n",
       "      <td>0.952796</td>\n",
       "      <td>0.200609</td>\n",
       "      <td>0.257184</td>\n",
       "      <td>0.389104</td>\n",
       "      <td>0.350165</td>\n",
       "      <td>1.300442</td>\n",
       "      <td>0.320914</td>\n",
       "      <td>1.171848</td>\n",
       "      <td>0.461470</td>\n",
       "    </tr>\n",
       "    <tr>\n",
       "      <th>6</th>\n",
       "      <td>0.587028</td>\n",
       "      <td>1.311430</td>\n",
       "      <td>0.732263</td>\n",
       "      <td>0.116292</td>\n",
       "      <td>0.153633</td>\n",
       "      <td>1.196885</td>\n",
       "      <td>1.545833</td>\n",
       "      <td>1.513510</td>\n",
       "      <td>0.207812</td>\n",
       "      <td>0.913883</td>\n",
       "      <td>0.137760</td>\n",
       "      <td>0.234429</td>\n",
       "      <td>0.165003</td>\n",
       "      <td>0.171757</td>\n",
       "      <td>1.802057</td>\n",
       "      <td>0.637623</td>\n",
       "      <td>0.097152</td>\n",
       "    </tr>\n",
       "    <tr>\n",
       "      <th>7</th>\n",
       "      <td>0.003243</td>\n",
       "      <td>0.428681</td>\n",
       "      <td>0.451289</td>\n",
       "      <td>0.596886</td>\n",
       "      <td>1.615025</td>\n",
       "      <td>1.099578</td>\n",
       "      <td>1.705636</td>\n",
       "      <td>0.910958</td>\n",
       "      <td>0.811641</td>\n",
       "      <td>1.760897</td>\n",
       "      <td>0.067235</td>\n",
       "      <td>0.147424</td>\n",
       "      <td>0.209800</td>\n",
       "      <td>1.275906</td>\n",
       "      <td>0.320914</td>\n",
       "      <td>0.008617</td>\n",
       "      <td>1.262970</td>\n",
       "    </tr>\n",
       "    <tr>\n",
       "      <th>8</th>\n",
       "      <td>0.094054</td>\n",
       "      <td>0.765626</td>\n",
       "      <td>0.451289</td>\n",
       "      <td>0.365489</td>\n",
       "      <td>0.183611</td>\n",
       "      <td>0.068115</td>\n",
       "      <td>0.107601</td>\n",
       "      <td>0.590073</td>\n",
       "      <td>0.605790</td>\n",
       "      <td>0.156029</td>\n",
       "      <td>0.652129</td>\n",
       "      <td>0.461608</td>\n",
       "      <td>0.484557</td>\n",
       "      <td>0.907856</td>\n",
       "      <td>0.172800</td>\n",
       "      <td>2.188598</td>\n",
       "      <td>0.048576</td>\n",
       "    </tr>\n",
       "    <tr>\n",
       "      <th>9</th>\n",
       "      <td>0.288649</td>\n",
       "      <td>1.034489</td>\n",
       "      <td>1.785913</td>\n",
       "      <td>1.628086</td>\n",
       "      <td>1.082929</td>\n",
       "      <td>0.165423</td>\n",
       "      <td>0.084163</td>\n",
       "      <td>0.158660</td>\n",
       "      <td>0.982204</td>\n",
       "      <td>0.557246</td>\n",
       "      <td>0.913544</td>\n",
       "      <td>0.843461</td>\n",
       "      <td>0.792164</td>\n",
       "      <td>0.171757</td>\n",
       "      <td>0.320914</td>\n",
       "      <td>0.396360</td>\n",
       "      <td>0.194303</td>\n",
       "    </tr>\n",
       "    <tr>\n",
       "      <th>10</th>\n",
       "      <td>0.684326</td>\n",
       "      <td>1.086415</td>\n",
       "      <td>0.076017</td>\n",
       "      <td>0.275303</td>\n",
       "      <td>0.239818</td>\n",
       "      <td>0.068115</td>\n",
       "      <td>0.267405</td>\n",
       "      <td>0.604334</td>\n",
       "      <td>0.148997</td>\n",
       "      <td>0.780144</td>\n",
       "      <td>0.631441</td>\n",
       "      <td>0.640451</td>\n",
       "      <td>0.635374</td>\n",
       "      <td>0.564343</td>\n",
       "      <td>0.567771</td>\n",
       "      <td>0.249879</td>\n",
       "      <td>1.797303</td>\n",
       "    </tr>\n",
       "    <tr>\n",
       "      <th>11</th>\n",
       "      <td>0.489731</td>\n",
       "      <td>0.705622</td>\n",
       "      <td>0.826562</td>\n",
       "      <td>0.721484</td>\n",
       "      <td>0.183611</td>\n",
       "      <td>0.515731</td>\n",
       "      <td>2.121125</td>\n",
       "      <td>0.301276</td>\n",
       "      <td>1.409590</td>\n",
       "      <td>1.671738</td>\n",
       "      <td>0.990653</td>\n",
       "      <td>0.925632</td>\n",
       "      <td>0.865333</td>\n",
       "      <td>0.564343</td>\n",
       "      <td>0.419657</td>\n",
       "      <td>0.525608</td>\n",
       "      <td>0.680061</td>\n",
       "    </tr>\n",
       "    <tr>\n",
       "      <th>12</th>\n",
       "      <td>0.392433</td>\n",
       "      <td>0.471376</td>\n",
       "      <td>1.432772</td>\n",
       "      <td>1.291077</td>\n",
       "      <td>1.783647</td>\n",
       "      <td>1.002270</td>\n",
       "      <td>0.395247</td>\n",
       "      <td>0.607900</td>\n",
       "      <td>0.962599</td>\n",
       "      <td>1.404260</td>\n",
       "      <td>0.186658</td>\n",
       "      <td>0.084588</td>\n",
       "      <td>0.036584</td>\n",
       "      <td>0.539806</td>\n",
       "      <td>0.172800</td>\n",
       "      <td>0.379127</td>\n",
       "      <td>0.097152</td>\n",
       "    </tr>\n",
       "    <tr>\n",
       "      <th>13</th>\n",
       "      <td>0.483244</td>\n",
       "      <td>0.557920</td>\n",
       "      <td>0.400291</td>\n",
       "      <td>0.436688</td>\n",
       "      <td>0.715707</td>\n",
       "      <td>0.904962</td>\n",
       "      <td>1.098383</td>\n",
       "      <td>0.158660</td>\n",
       "      <td>0.860654</td>\n",
       "      <td>0.646405</td>\n",
       "      <td>0.532705</td>\n",
       "      <td>0.596948</td>\n",
       "      <td>0.456185</td>\n",
       "      <td>0.932393</td>\n",
       "      <td>0.172800</td>\n",
       "      <td>0.249879</td>\n",
       "      <td>0.024288</td>\n",
       "    </tr>\n",
       "    <tr>\n",
       "      <th>14</th>\n",
       "      <td>1.261625</td>\n",
       "      <td>0.099814</td>\n",
       "      <td>1.208570</td>\n",
       "      <td>0.026106</td>\n",
       "      <td>0.127403</td>\n",
       "      <td>1.430424</td>\n",
       "      <td>0.563574</td>\n",
       "      <td>0.105179</td>\n",
       "      <td>1.266474</td>\n",
       "      <td>0.245188</td>\n",
       "      <td>0.575021</td>\n",
       "      <td>0.408438</td>\n",
       "      <td>0.411388</td>\n",
       "      <td>0.564343</td>\n",
       "      <td>0.913371</td>\n",
       "      <td>1.947335</td>\n",
       "      <td>2.307348</td>\n",
       "    </tr>\n",
       "    <tr>\n",
       "      <th>15</th>\n",
       "      <td>1.851896</td>\n",
       "      <td>0.713699</td>\n",
       "      <td>0.465723</td>\n",
       "      <td>0.312089</td>\n",
       "      <td>0.745685</td>\n",
       "      <td>0.749270</td>\n",
       "      <td>0.851220</td>\n",
       "      <td>0.657815</td>\n",
       "      <td>0.184286</td>\n",
       "      <td>0.646405</td>\n",
       "      <td>2.302433</td>\n",
       "      <td>2.288705</td>\n",
       "      <td>2.276445</td>\n",
       "      <td>0.907856</td>\n",
       "      <td>0.913371</td>\n",
       "      <td>2.447094</td>\n",
       "      <td>0.121439</td>\n",
       "    </tr>\n",
       "    <tr>\n",
       "      <th>16</th>\n",
       "      <td>1.657301</td>\n",
       "      <td>0.151740</td>\n",
       "      <td>1.656011</td>\n",
       "      <td>1.040693</td>\n",
       "      <td>0.970514</td>\n",
       "      <td>0.418423</td>\n",
       "      <td>0.755338</td>\n",
       "      <td>0.144398</td>\n",
       "      <td>0.723420</td>\n",
       "      <td>0.646405</td>\n",
       "      <td>1.300966</td>\n",
       "      <td>1.505663</td>\n",
       "      <td>1.671683</td>\n",
       "      <td>1.275906</td>\n",
       "      <td>0.419657</td>\n",
       "      <td>1.413111</td>\n",
       "      <td>2.015894</td>\n",
       "    </tr>\n",
       "    <tr>\n",
       "      <th>17</th>\n",
       "      <td>1.560004</td>\n",
       "      <td>0.013270</td>\n",
       "      <td>0.364688</td>\n",
       "      <td>1.113079</td>\n",
       "      <td>0.153633</td>\n",
       "      <td>0.126500</td>\n",
       "      <td>0.235444</td>\n",
       "      <td>1.745261</td>\n",
       "      <td>2.644696</td>\n",
       "      <td>0.512666</td>\n",
       "      <td>1.131704</td>\n",
       "      <td>1.302652</td>\n",
       "      <td>1.335704</td>\n",
       "      <td>0.932393</td>\n",
       "      <td>2.394514</td>\n",
       "      <td>0.637623</td>\n",
       "      <td>1.214394</td>\n",
       "    </tr>\n",
       "    <tr>\n",
       "      <th>18</th>\n",
       "      <td>1.261625</td>\n",
       "      <td>0.575229</td>\n",
       "      <td>0.523457</td>\n",
       "      <td>0.454487</td>\n",
       "      <td>0.041219</td>\n",
       "      <td>0.262731</td>\n",
       "      <td>0.595534</td>\n",
       "      <td>1.017920</td>\n",
       "      <td>0.497964</td>\n",
       "      <td>0.022290</td>\n",
       "      <td>0.687862</td>\n",
       "      <td>0.669452</td>\n",
       "      <td>0.724968</td>\n",
       "      <td>0.907856</td>\n",
       "      <td>1.061486</td>\n",
       "      <td>0.396360</td>\n",
       "      <td>1.578712</td>\n",
       "    </tr>\n",
       "    <tr>\n",
       "      <th>19</th>\n",
       "      <td>1.650815</td>\n",
       "      <td>0.834861</td>\n",
       "      <td>0.789997</td>\n",
       "      <td>0.383288</td>\n",
       "      <td>0.996744</td>\n",
       "      <td>0.418423</td>\n",
       "      <td>0.107601</td>\n",
       "      <td>0.479546</td>\n",
       "      <td>0.066657</td>\n",
       "      <td>2.251273</td>\n",
       "      <td>0.927650</td>\n",
       "      <td>0.930466</td>\n",
       "      <td>0.836961</td>\n",
       "      <td>0.539806</td>\n",
       "      <td>0.814629</td>\n",
       "      <td>1.042600</td>\n",
       "      <td>0.315742</td>\n",
       "    </tr>\n",
       "    <tr>\n",
       "      <th>20</th>\n",
       "      <td>0.878921</td>\n",
       "      <td>0.090583</td>\n",
       "      <td>0.154920</td>\n",
       "      <td>0.935081</td>\n",
       "      <td>1.139136</td>\n",
       "      <td>1.391501</td>\n",
       "      <td>0.427208</td>\n",
       "      <td>0.336930</td>\n",
       "      <td>0.409742</td>\n",
       "      <td>1.448839</td>\n",
       "      <td>1.061179</td>\n",
       "      <td>1.143144</td>\n",
       "      <td>1.178913</td>\n",
       "      <td>0.907856</td>\n",
       "      <td>0.666514</td>\n",
       "      <td>0.896119</td>\n",
       "      <td>0.461470</td>\n",
       "    </tr>\n",
       "    <tr>\n",
       "      <th>21</th>\n",
       "      <td>0.197838</td>\n",
       "      <td>0.255593</td>\n",
       "      <td>1.274002</td>\n",
       "      <td>0.721484</td>\n",
       "      <td>0.547085</td>\n",
       "      <td>1.780732</td>\n",
       "      <td>0.427208</td>\n",
       "      <td>1.246105</td>\n",
       "      <td>0.939073</td>\n",
       "      <td>1.181361</td>\n",
       "      <td>0.750865</td>\n",
       "      <td>0.853129</td>\n",
       "      <td>0.753340</td>\n",
       "      <td>0.196293</td>\n",
       "      <td>0.419657</td>\n",
       "      <td>0.267112</td>\n",
       "      <td>0.315742</td>\n",
       "    </tr>\n",
       "    <tr>\n",
       "      <th>22</th>\n",
       "      <td>0.969732</td>\n",
       "      <td>1.302198</td>\n",
       "      <td>0.768828</td>\n",
       "      <td>0.293103</td>\n",
       "      <td>2.177099</td>\n",
       "      <td>0.846578</td>\n",
       "      <td>1.394552</td>\n",
       "      <td>1.677518</td>\n",
       "      <td>0.962599</td>\n",
       "      <td>1.270521</td>\n",
       "      <td>0.144343</td>\n",
       "      <td>0.031418</td>\n",
       "      <td>0.142604</td>\n",
       "      <td>1.275906</td>\n",
       "      <td>0.172800</td>\n",
       "      <td>1.042600</td>\n",
       "      <td>1.262970</td>\n",
       "    </tr>\n",
       "    <tr>\n",
       "      <th>23</th>\n",
       "      <td>1.358922</td>\n",
       "      <td>1.994550</td>\n",
       "      <td>1.389471</td>\n",
       "      <td>0.757084</td>\n",
       "      <td>1.333988</td>\n",
       "      <td>1.294193</td>\n",
       "      <td>2.033766</td>\n",
       "      <td>0.033871</td>\n",
       "      <td>1.384104</td>\n",
       "      <td>0.646405</td>\n",
       "      <td>1.012281</td>\n",
       "      <td>0.901464</td>\n",
       "      <td>1.016150</td>\n",
       "      <td>0.171757</td>\n",
       "      <td>0.320914</td>\n",
       "      <td>0.120631</td>\n",
       "      <td>0.315742</td>\n",
       "    </tr>\n",
       "    <tr>\n",
       "      <th>24</th>\n",
       "      <td>1.748112</td>\n",
       "      <td>1.077184</td>\n",
       "      <td>0.183787</td>\n",
       "      <td>0.525687</td>\n",
       "      <td>0.153633</td>\n",
       "      <td>0.554654</td>\n",
       "      <td>1.074945</td>\n",
       "      <td>1.463595</td>\n",
       "      <td>0.252903</td>\n",
       "      <td>0.200609</td>\n",
       "      <td>1.703434</td>\n",
       "      <td>1.641004</td>\n",
       "      <td>1.643311</td>\n",
       "      <td>0.907856</td>\n",
       "      <td>1.061486</td>\n",
       "      <td>1.042600</td>\n",
       "      <td>1.651576</td>\n",
       "    </tr>\n",
       "    <tr>\n",
       "      <th>25</th>\n",
       "      <td>1.073516</td>\n",
       "      <td>0.367523</td>\n",
       "      <td>1.894646</td>\n",
       "      <td>1.024080</td>\n",
       "      <td>0.659500</td>\n",
       "      <td>0.515731</td>\n",
       "      <td>0.746815</td>\n",
       "      <td>1.673953</td>\n",
       "      <td>0.096064</td>\n",
       "      <td>1.092202</td>\n",
       "      <td>1.315071</td>\n",
       "      <td>1.201147</td>\n",
       "      <td>1.156515</td>\n",
       "      <td>0.932393</td>\n",
       "      <td>2.394514</td>\n",
       "      <td>0.508375</td>\n",
       "      <td>1.408697</td>\n",
       "    </tr>\n",
       "    <tr>\n",
       "      <th>26</th>\n",
       "      <td>0.295136</td>\n",
       "      <td>0.134432</td>\n",
       "      <td>0.703396</td>\n",
       "      <td>1.467888</td>\n",
       "      <td>0.745685</td>\n",
       "      <td>0.749270</td>\n",
       "      <td>0.883181</td>\n",
       "      <td>0.215706</td>\n",
       "      <td>0.874377</td>\n",
       "      <td>0.423507</td>\n",
       "      <td>0.863706</td>\n",
       "      <td>0.563113</td>\n",
       "      <td>0.529354</td>\n",
       "      <td>1.300442</td>\n",
       "      <td>1.653943</td>\n",
       "      <td>0.267112</td>\n",
       "      <td>1.190106</td>\n",
       "    </tr>\n",
       "    <tr>\n",
       "      <th>27</th>\n",
       "      <td>0.191352</td>\n",
       "      <td>0.549843</td>\n",
       "      <td>1.915815</td>\n",
       "      <td>1.610286</td>\n",
       "      <td>0.801892</td>\n",
       "      <td>1.625040</td>\n",
       "      <td>0.307888</td>\n",
       "      <td>0.372584</td>\n",
       "      <td>0.625395</td>\n",
       "      <td>2.162114</td>\n",
       "      <td>0.349338</td>\n",
       "      <td>0.335934</td>\n",
       "      <td>0.187402</td>\n",
       "      <td>0.907856</td>\n",
       "      <td>0.172800</td>\n",
       "      <td>0.120631</td>\n",
       "      <td>0.607197</td>\n",
       "    </tr>\n",
       "    <tr>\n",
       "      <th>28</th>\n",
       "      <td>0.677839</td>\n",
       "      <td>0.661773</td>\n",
       "      <td>0.855429</td>\n",
       "      <td>1.415675</td>\n",
       "      <td>0.828122</td>\n",
       "      <td>0.457346</td>\n",
       "      <td>0.499652</td>\n",
       "      <td>0.768343</td>\n",
       "      <td>0.772432</td>\n",
       "      <td>0.066870</td>\n",
       "      <td>0.603231</td>\n",
       "      <td>0.277931</td>\n",
       "      <td>0.299395</td>\n",
       "      <td>0.907856</td>\n",
       "      <td>1.308343</td>\n",
       "      <td>0.267112</td>\n",
       "      <td>0.170015</td>\n",
       "    </tr>\n",
       "    <tr>\n",
       "      <th>29</th>\n",
       "      <td>1.261625</td>\n",
       "      <td>0.844092</td>\n",
       "      <td>0.804431</td>\n",
       "      <td>1.343289</td>\n",
       "      <td>0.041219</td>\n",
       "      <td>1.722347</td>\n",
       "      <td>0.714854</td>\n",
       "      <td>1.445768</td>\n",
       "      <td>0.341125</td>\n",
       "      <td>0.601826</td>\n",
       "      <td>2.197114</td>\n",
       "      <td>2.366042</td>\n",
       "      <td>2.427263</td>\n",
       "      <td>0.196293</td>\n",
       "      <td>1.802057</td>\n",
       "      <td>0.913352</td>\n",
       "      <td>0.048576</td>\n",
       "    </tr>\n",
       "  </tbody>\n",
       "</table>\n",
       "</div>"
      ],
      "text/plain": [
       "           W         R        AB         H        2B        3B        HR  \\\n",
       "0   1.365409  0.619078  0.847731  1.663685  1.420173  1.041193  0.787299   \n",
       "1   0.197838  0.134432  0.711094  0.970681  0.127403  1.235809  0.243967   \n",
       "2   0.003243  0.332906  1.115233  0.151891  1.588795  0.223808  0.723377   \n",
       "3   0.483244  1.146419  0.241522  0.401088  0.828122  0.418423  0.883181   \n",
       "4   0.677839  0.013270  1.280738  1.984081  0.801892  1.722347  0.403770   \n",
       "5   1.170814  3.509647  0.104884  1.361089  1.869832  1.391501  2.185047   \n",
       "6   0.587028  1.311430  0.732263  0.116292  0.153633  1.196885  1.545833   \n",
       "7   0.003243  0.428681  0.451289  0.596886  1.615025  1.099578  1.705636   \n",
       "8   0.094054  0.765626  0.451289  0.365489  0.183611  0.068115  0.107601   \n",
       "9   0.288649  1.034489  1.785913  1.628086  1.082929  0.165423  0.084163   \n",
       "10  0.684326  1.086415  0.076017  0.275303  0.239818  0.068115  0.267405   \n",
       "11  0.489731  0.705622  0.826562  0.721484  0.183611  0.515731  2.121125   \n",
       "12  0.392433  0.471376  1.432772  1.291077  1.783647  1.002270  0.395247   \n",
       "13  0.483244  0.557920  0.400291  0.436688  0.715707  0.904962  1.098383   \n",
       "14  1.261625  0.099814  1.208570  0.026106  0.127403  1.430424  0.563574   \n",
       "15  1.851896  0.713699  0.465723  0.312089  0.745685  0.749270  0.851220   \n",
       "16  1.657301  0.151740  1.656011  1.040693  0.970514  0.418423  0.755338   \n",
       "17  1.560004  0.013270  0.364688  1.113079  0.153633  0.126500  0.235444   \n",
       "18  1.261625  0.575229  0.523457  0.454487  0.041219  0.262731  0.595534   \n",
       "19  1.650815  0.834861  0.789997  0.383288  0.996744  0.418423  0.107601   \n",
       "20  0.878921  0.090583  0.154920  0.935081  1.139136  1.391501  0.427208   \n",
       "21  0.197838  0.255593  1.274002  0.721484  0.547085  1.780732  0.427208   \n",
       "22  0.969732  1.302198  0.768828  0.293103  2.177099  0.846578  1.394552   \n",
       "23  1.358922  1.994550  1.389471  0.757084  1.333988  1.294193  2.033766   \n",
       "24  1.748112  1.077184  0.183787  0.525687  0.153633  0.554654  1.074945   \n",
       "25  1.073516  0.367523  1.894646  1.024080  0.659500  0.515731  0.746815   \n",
       "26  0.295136  0.134432  0.703396  1.467888  0.745685  0.749270  0.883181   \n",
       "27  0.191352  0.549843  1.915815  1.610286  0.801892  1.625040  0.307888   \n",
       "28  0.677839  0.661773  0.855429  1.415675  0.828122  0.457346  0.499652   \n",
       "29  1.261625  0.844092  0.804431  1.343289  0.041219  1.722347  0.714854   \n",
       "\n",
       "          BB        SO        SB        RA        ER       ERA        CG  \\\n",
       "0   1.534902  2.697630  0.913883  0.666234  0.505110  0.506955  0.539806   \n",
       "1   0.536592  0.154878  0.601826  0.165971  0.248930  0.254598  0.539806   \n",
       "2   1.139144  0.893982  0.111449  0.680339  0.751623  0.641347  2.772641   \n",
       "3   1.160536  0.168602  0.690985  0.180076  0.103922  0.053010  1.300442   \n",
       "4   0.251360  0.105866  0.022290  1.618803  1.597501  1.531318  1.300442   \n",
       "5   1.798742  0.952796  0.200609  0.257184  0.389104  0.350165  1.300442   \n",
       "6   1.513510  0.207812  0.913883  0.137760  0.234429  0.165003  0.171757   \n",
       "7   0.910958  0.811641  1.760897  0.067235  0.147424  0.209800  1.275906   \n",
       "8   0.590073  0.605790  0.156029  0.652129  0.461608  0.484557  0.907856   \n",
       "9   0.158660  0.982204  0.557246  0.913544  0.843461  0.792164  0.171757   \n",
       "10  0.604334  0.148997  0.780144  0.631441  0.640451  0.635374  0.564343   \n",
       "11  0.301276  1.409590  1.671738  0.990653  0.925632  0.865333  0.564343   \n",
       "12  0.607900  0.962599  1.404260  0.186658  0.084588  0.036584  0.539806   \n",
       "13  0.158660  0.860654  0.646405  0.532705  0.596948  0.456185  0.932393   \n",
       "14  0.105179  1.266474  0.245188  0.575021  0.408438  0.411388  0.564343   \n",
       "15  0.657815  0.184286  0.646405  2.302433  2.288705  2.276445  0.907856   \n",
       "16  0.144398  0.723420  0.646405  1.300966  1.505663  1.671683  1.275906   \n",
       "17  1.745261  2.644696  0.512666  1.131704  1.302652  1.335704  0.932393   \n",
       "18  1.017920  0.497964  0.022290  0.687862  0.669452  0.724968  0.907856   \n",
       "19  0.479546  0.066657  2.251273  0.927650  0.930466  0.836961  0.539806   \n",
       "20  0.336930  0.409742  1.448839  1.061179  1.143144  1.178913  0.907856   \n",
       "21  1.246105  0.939073  1.181361  0.750865  0.853129  0.753340  0.196293   \n",
       "22  1.677518  0.962599  1.270521  0.144343  0.031418  0.142604  1.275906   \n",
       "23  0.033871  1.384104  0.646405  1.012281  0.901464  1.016150  0.171757   \n",
       "24  1.463595  0.252903  0.200609  1.703434  1.641004  1.643311  0.907856   \n",
       "25  1.673953  0.096064  1.092202  1.315071  1.201147  1.156515  0.932393   \n",
       "26  0.215706  0.874377  0.423507  0.863706  0.563113  0.529354  1.300442   \n",
       "27  0.372584  0.625395  2.162114  0.349338  0.335934  0.187402  0.907856   \n",
       "28  0.768343  0.772432  0.066870  0.603231  0.277931  0.299395  0.907856   \n",
       "29  1.445768  0.341125  0.601826  2.197114  2.366042  2.427263  0.196293   \n",
       "\n",
       "         SHO        SV         E  \n",
       "0   0.814629  1.671607  0.461470  \n",
       "1   0.172800  0.249879  0.607197  \n",
       "2   0.320914  0.654856  1.117242  \n",
       "3   0.567771  0.784104  0.485758  \n",
       "4   0.172800  1.042600  0.607197  \n",
       "5   0.320914  1.171848  0.461470  \n",
       "6   1.802057  0.637623  0.097152  \n",
       "7   0.320914  0.008617  1.262970  \n",
       "8   0.172800  2.188598  0.048576  \n",
       "9   0.320914  0.396360  0.194303  \n",
       "10  0.567771  0.249879  1.797303  \n",
       "11  0.419657  0.525608  0.680061  \n",
       "12  0.172800  0.379127  0.097152  \n",
       "13  0.172800  0.249879  0.024288  \n",
       "14  0.913371  1.947335  2.307348  \n",
       "15  0.913371  2.447094  0.121439  \n",
       "16  0.419657  1.413111  2.015894  \n",
       "17  2.394514  0.637623  1.214394  \n",
       "18  1.061486  0.396360  1.578712  \n",
       "19  0.814629  1.042600  0.315742  \n",
       "20  0.666514  0.896119  0.461470  \n",
       "21  0.419657  0.267112  0.315742  \n",
       "22  0.172800  1.042600  1.262970  \n",
       "23  0.320914  0.120631  0.315742  \n",
       "24  1.061486  1.042600  1.651576  \n",
       "25  2.394514  0.508375  1.408697  \n",
       "26  1.653943  0.267112  1.190106  \n",
       "27  0.172800  0.120631  0.607197  \n",
       "28  1.308343  0.267112  0.170015  \n",
       "29  1.802057  0.913352  0.048576  "
      ]
     },
     "execution_count": 21,
     "metadata": {},
     "output_type": "execute_result"
    }
   ],
   "source": [
    "from scipy.stats import zscore\n",
    "z=np.abs(zscore(df))\n",
    "z"
   ]
  },
  {
   "cell_type": "code",
   "execution_count": 22,
   "id": "6ed6090d",
   "metadata": {},
   "outputs": [
    {
     "name": "stdout",
     "output_type": "stream",
     "text": [
      "(array([5], dtype=int64), array([1], dtype=int64))\n"
     ]
    },
    {
     "data": {
      "text/plain": [
       "1"
      ]
     },
     "execution_count": 22,
     "metadata": {},
     "output_type": "execute_result"
    }
   ],
   "source": [
    "threshold=3  # rule of thumb\n",
    "#index number\n",
    "print(np.where(z>3))\n",
    "len(np.where(z>3)[0])"
   ]
  },
  {
   "cell_type": "code",
   "execution_count": 23,
   "id": "2f2d35cc",
   "metadata": {},
   "outputs": [
    {
     "name": "stdout",
     "output_type": "stream",
     "text": [
      "old dataframe (30, 17)\n",
      "new dataframe (29, 17)\n",
      "total number of rows dropped 1\n"
     ]
    }
   ],
   "source": [
    "df_new=df[(z<3).all(axis=1)]\n",
    "print(\"old dataframe\",df.shape)\n",
    "print(\"new dataframe\",df_new.shape)\n",
    "print(\"total number of rows dropped\",df.shape[0]-df_new.shape[0])"
   ]
  },
  {
   "cell_type": "markdown",
   "id": "f151ad25",
   "metadata": {},
   "source": [
    "### Percentage data loss"
   ]
  },
  {
   "cell_type": "code",
   "execution_count": 24,
   "id": "7a9761c0",
   "metadata": {},
   "outputs": [
    {
     "data": {
      "text/plain": [
       "3.3333333333333335"
      ]
     },
     "execution_count": 24,
     "metadata": {},
     "output_type": "execute_result"
    }
   ],
   "source": [
    "loss_percent=(30-29)/30*100\n",
    "loss_percent"
   ]
  },
  {
   "cell_type": "markdown",
   "id": "c489c957",
   "metadata": {},
   "source": [
    "Since percentage loss is less than 10% .So it is safe to proceed futhur"
   ]
  },
  {
   "cell_type": "markdown",
   "id": "3e50cd56",
   "metadata": {},
   "source": [
    "### Separating label and features as x and y"
   ]
  },
  {
   "cell_type": "code",
   "execution_count": 25,
   "id": "dae4d593",
   "metadata": {},
   "outputs": [],
   "source": [
    "x=df_new.drop(columns=['W','RA','ER','H','CG','AB'],axis=1)\n",
    "y=df_new['W']"
   ]
  },
  {
   "cell_type": "markdown",
   "id": "d909d9cd",
   "metadata": {},
   "source": [
    "## Removing skewness using Datatransfromation"
   ]
  },
  {
   "cell_type": "code",
   "execution_count": 26,
   "id": "4feca27b",
   "metadata": {
    "scrolled": true
   },
   "outputs": [],
   "source": [
    "from sklearn.preprocessing import power_transform\n"
   ]
  },
  {
   "cell_type": "code",
   "execution_count": 27,
   "id": "76788670",
   "metadata": {},
   "outputs": [
    {
     "data": {
      "text/plain": [
       "array([[ 9.62543504e-01,  1.68518793e+00,  1.00615029e+00,\n",
       "        -7.41927000e-01, -1.60519802e+00, -2.55061247e+00,\n",
       "         9.36131648e-01, -5.09292146e-01, -7.87002186e-01,\n",
       "         1.53275292e+00, -3.48265262e-01],\n",
       "       [ 2.98863300e-01,  1.38197902e-01,  1.18522654e+00,\n",
       "        -1.09958425e-01, -4.62095966e-01,  9.36832915e-02,\n",
       "        -5.16377335e-01,  2.41440214e-01,  2.36736538e-01,\n",
       "         3.12020186e-01, -5.40819806e-01],\n",
       "       [-3.12105130e-01,  1.90738550e+00, -2.28819392e-01,\n",
       "        -6.64354121e-01,  1.23209786e+00, -9.35611465e-01,\n",
       "         2.25038365e-01, -6.42097599e-01, -2.52844176e-01,\n",
       "        -6.64136739e-01, -1.32612477e+00],\n",
       "       [-1.30829774e+00, -8.37664770e-01, -4.32227907e-01,\n",
       "        -8.60039342e-01, -1.16272085e+00, -2.30682707e-01,\n",
       "        -6.18421529e-01,  4.30132461e-02, -5.13554932e-01,\n",
       "        -8.20688859e-01,  6.50818351e-01],\n",
       "       [ 1.37737301e-01,  9.11434794e-01,  1.62263592e+00,\n",
       "        -2.89646675e-01, -1.55685826e-01,  4.41433307e-02,\n",
       "         9.50377681e-02,  1.49349103e+00,  2.36736538e-01,\n",
       "        -1.14916472e+00, -5.40819806e-01],\n",
       "       [ 1.96420873e+00, -1.63010220e-01, -1.29582738e+00,\n",
       "         1.63163749e+00,  1.57949358e+00, -2.69582692e-01,\n",
       "        -8.84525554e-01,  1.53276229e-01, -2.06403920e+00,\n",
       "         6.77176215e-01,  8.28582419e-02],\n",
       "       [ 6.98145564e-01, -1.54263548e+00, -1.18275843e+00,\n",
       "         1.76773356e+00, -8.77216697e-01,  7.70980104e-01,\n",
       "        -2.08284252e+00,  1.97363352e-01, -2.52844176e-01,\n",
       "         5.23253489e-02, -1.58819729e+00],\n",
       "       [-8.52595277e-01,  1.99896614e-01,  6.87034881e-02,\n",
       "         2.69125303e-01, -5.20475583e-01,  5.56007529e-01,\n",
       "         2.67558365e-01, -4.87167563e-01,  2.36736538e-01,\n",
       "         1.90813725e+00,  2.37592499e-01],\n",
       "       [ 1.55595108e+00,  1.25525640e+00,  1.66016920e-01,\n",
       "         6.50138601e-02,  2.70943885e-01, -1.01920973e+00,\n",
       "        -4.66233050e-01,  7.69577491e-01, -2.52844176e-01,\n",
       "        -3.65006331e-01,  3.83385575e-01],\n",
       "       [ 1.63172674e+00,  2.62085981e-01,  6.87034881e-02,\n",
       "         4.34619901e-01,  7.17575787e-01, -2.11198815e-01,\n",
       "         8.24915052e-01,  6.15685236e-01, -5.13554932e-01,\n",
       "         3.12020186e-01,  1.55426515e+00],\n",
       "       [ 1.08429715e+00,  1.99896614e-01, -5.35589865e-01,\n",
       "         2.10976140e+00,  4.15731318e-01,  1.40920289e+00,\n",
       "         1.52141342e+00, -8.63663642e-01,  4.68029391e-01,\n",
       "        -5.12328248e-01, -6.41925514e-01],\n",
       "       [-4.87692420e-01, -1.68270914e+00, -1.07132315e+00,\n",
       "         5.64164281e-01, -5.40002291e-01, -1.00067264e+00,\n",
       "        -1.53576005e+00, -4.52439677e-02,  2.36736538e-01,\n",
       "         4.36837705e-01,  8.28582419e-02],\n",
       "       [-5.96175935e-01, -7.29846682e-01, -9.61425202e-01,\n",
       "         1.23584791e+00,  2.70943885e-01,  8.22523572e-01,\n",
       "        -5.67101779e-01,  4.39660260e-01,  2.36736538e-01,\n",
       "         3.12020186e-01,  1.61388488e-01],\n",
       "       [ 2.52632115e-01,  1.38197902e-01,  1.36188686e+00,\n",
       "        -4.74339591e-01,  2.16180612e-01, -1.28540143e+00,\n",
       "        -1.30311671e-01,  3.95629046e-01,  9.08147185e-01,\n",
       "        -2.49883997e+00,  1.81055287e+00],\n",
       "       [-7.89011402e-01,  8.44221534e-01,  7.32678154e-01,\n",
       "        -8.20430695e-01,  7.70046367e-01,  1.23474558e-01,\n",
       "        -5.67101779e-01, -2.26637599e+00,  9.08147185e-01,\n",
       "         2.08491727e+00,  3.11562350e-01],\n",
       "       [ 3.22037487e-01,  1.11616810e+00, -4.32227907e-01,\n",
       "        -7.03025726e-01, -4.28617534e-02,  6.78550021e-01,\n",
       "         7.10994061e-01, -1.66371188e+00,  4.68029391e-01,\n",
       "         1.33300631e+00,  1.66920917e+00],\n",
       "       [ 1.37737301e-01, -1.63010220e-01, -1.28676161e-01,\n",
       "         4.01843420e-01,  1.78963187e+00,  2.79148702e+00,\n",
       "         5.94217890e-01, -1.32988858e+00,  2.09085582e+00,\n",
       "         6.77176215e-01,  1.20371501e+00],\n",
       "       [-6.17756609e-01, -4.39755655e-02,  2.62459743e-01,\n",
       "        -5.11906087e-01, -9.98685266e-01,  4.44378919e-01,\n",
       "         1.38786720e-01,  7.03638359e-01, -1.07533963e+00,\n",
       "        -3.65006331e-01,  1.43081026e+00],\n",
       "       [-9.36834306e-01, -9.96002506e-01, -4.32227907e-01,\n",
       "         2.69125303e-01,  5.94226550e-01,  4.61238853e-03,\n",
       "         1.92552808e+00,  8.13524742e-01, -7.87002186e-01,\n",
       "        -1.14916472e+00, -1.67684998e-01],\n",
       "       [ 1.15032665e-03,  1.32558682e+00, -1.52730964e+00,\n",
       "         5.96168091e-01,  4.51648972e-01,  3.53547035e-01,\n",
       "        -1.60029335e+00, -1.17433666e+00,  6.91582693e-01,\n",
       "         9.06023678e-01, -3.48265262e-01],\n",
       "       [ 4.61903563e-01, -5.64688157e-01, -2.01564882e+00,\n",
       "         5.96168091e-01,  1.33238489e+00,  9.05280039e-01,\n",
       "        -1.22726215e+00, -7.52845387e-01,  4.68029391e-01,\n",
       "        -2.21933710e-01, -1.67684998e-01],\n",
       "       [-1.48937178e+00, -1.99504220e+00,  8.24510284e-01,\n",
       "        -1.52911231e+00, -1.77854272e+00, -1.00067264e+00,\n",
       "         1.22050964e+00,  1.31228806e-01,  2.36736538e-01,\n",
       "        -1.14916472e+00, -1.58819729e+00],\n",
       "       [-2.25681725e+00, -1.30068346e+00, -1.41063754e+00,\n",
       "        -2.47829793e+00,  1.42758514e-01, -1.39412379e+00,\n",
       "        -5.67101779e-01,  9.89217220e-01, -2.52844176e-01,\n",
       "         1.83903886e-01, -1.67684998e-01],\n",
       "       [-1.22682499e+00, -1.63010220e-01,  5.46877831e-01,\n",
       "        -1.10289298e+00, -1.51954034e+00,  1.93183556e-01,\n",
       "         3.09685564e-01,  1.60295419e+00, -1.07533963e+00,\n",
       "        -1.14916472e+00,  1.47295923e+00],\n",
       "       [-3.56234524e-01, -6.75253462e-01, -5.35589865e-01,\n",
       "         9.08214214e-01,  1.72536184e+00,  3.42521724e-02,\n",
       "        -1.10992538e+00, -1.15212680e+00,  2.09085582e+00,\n",
       "         5.58508906e-01, -1.87019087e+00],\n",
       "       [ 2.98863300e-01,  8.44221534e-01,  7.32678154e-01,\n",
       "        -8.60039342e-01, -1.17954659e-01, -9.16970789e-01,\n",
       "         5.14700397e-01, -5.31419479e-01,  1.52182832e+00,\n",
       "        -2.21933710e-01, -1.45479212e+00],\n",
       "       [ 8.65848732e-01,  9.11434794e-01,  1.53626470e+00,\n",
       "        -1.81252234e-01,  4.87456542e-01,  5.76375836e-01,\n",
       "         1.86548585e+00,  1.75321075e-01,  2.36736538e-01,\n",
       "         1.83903886e-01, -5.40819806e-01],\n",
       "       [-7.25080407e-01, -8.37664770e-01,  4.52860860e-01,\n",
       "        -3.99842255e-01, -7.17272959e-01,  7.29844768e-01,\n",
       "         5.08613716e-02,  2.85506859e-01, -1.38141238e+00,\n",
       "        -2.21933710e-01,  1.90485434e-03],\n",
       "       [ 1.28115156e+00, -4.39755655e-02,  1.62263592e+00,\n",
       "         8.77641898e-01, -1.49822954e+00,  2.83212126e-01,\n",
       "         6.72393731e-01,  2.36764236e+00, -2.06403920e+00,\n",
       "        -9.82263658e-01,  2.37592499e-01]])"
      ]
     },
     "execution_count": 27,
     "metadata": {},
     "output_type": "execute_result"
    }
   ],
   "source": [
    "x_new=power_transform(x,method='yeo-johnson',)\n",
    "x_new"
   ]
  },
  {
   "cell_type": "code",
   "execution_count": 28,
   "id": "29932905",
   "metadata": {},
   "outputs": [
    {
     "data": {
      "text/plain": [
       "2    -0.075139\n",
       "1    -0.052793\n",
       "0    -0.024842\n",
       "6    -0.009570\n",
       "4    -0.008572\n",
       "9    -0.000925\n",
       "7    -0.000401\n",
       "3     0.000448\n",
       "8     0.000529\n",
       "5     0.051530\n",
       "10    0.065585\n",
       "dtype: float64"
      ]
     },
     "execution_count": 28,
     "metadata": {},
     "output_type": "execute_result"
    }
   ],
   "source": [
    "pd.DataFrame(x_new).skew().sort_values()"
   ]
  },
  {
   "cell_type": "code",
   "execution_count": 29,
   "id": "e0784460",
   "metadata": {},
   "outputs": [],
   "source": [
    "x=pd.DataFrame(x_new,columns=x.columns)"
   ]
  },
  {
   "cell_type": "code",
   "execution_count": 30,
   "id": "5249ac13",
   "metadata": {},
   "outputs": [
    {
     "data": {
      "text/html": [
       "<div>\n",
       "<style scoped>\n",
       "    .dataframe tbody tr th:only-of-type {\n",
       "        vertical-align: middle;\n",
       "    }\n",
       "\n",
       "    .dataframe tbody tr th {\n",
       "        vertical-align: top;\n",
       "    }\n",
       "\n",
       "    .dataframe thead th {\n",
       "        text-align: right;\n",
       "    }\n",
       "</style>\n",
       "<table border=\"1\" class=\"dataframe\">\n",
       "  <thead>\n",
       "    <tr style=\"text-align: right;\">\n",
       "      <th></th>\n",
       "      <th>R</th>\n",
       "      <th>2B</th>\n",
       "      <th>3B</th>\n",
       "      <th>HR</th>\n",
       "      <th>BB</th>\n",
       "      <th>SO</th>\n",
       "      <th>SB</th>\n",
       "      <th>ERA</th>\n",
       "      <th>SHO</th>\n",
       "      <th>SV</th>\n",
       "      <th>E</th>\n",
       "    </tr>\n",
       "  </thead>\n",
       "  <tbody>\n",
       "    <tr>\n",
       "      <th>0</th>\n",
       "      <td>0.962544</td>\n",
       "      <td>1.685188</td>\n",
       "      <td>1.006150</td>\n",
       "      <td>-0.741927</td>\n",
       "      <td>-1.605198</td>\n",
       "      <td>-2.550612</td>\n",
       "      <td>0.936132</td>\n",
       "      <td>-0.509292</td>\n",
       "      <td>-0.787002</td>\n",
       "      <td>1.532753</td>\n",
       "      <td>-0.348265</td>\n",
       "    </tr>\n",
       "    <tr>\n",
       "      <th>1</th>\n",
       "      <td>0.298863</td>\n",
       "      <td>0.138198</td>\n",
       "      <td>1.185227</td>\n",
       "      <td>-0.109958</td>\n",
       "      <td>-0.462096</td>\n",
       "      <td>0.093683</td>\n",
       "      <td>-0.516377</td>\n",
       "      <td>0.241440</td>\n",
       "      <td>0.236737</td>\n",
       "      <td>0.312020</td>\n",
       "      <td>-0.540820</td>\n",
       "    </tr>\n",
       "    <tr>\n",
       "      <th>2</th>\n",
       "      <td>-0.312105</td>\n",
       "      <td>1.907385</td>\n",
       "      <td>-0.228819</td>\n",
       "      <td>-0.664354</td>\n",
       "      <td>1.232098</td>\n",
       "      <td>-0.935611</td>\n",
       "      <td>0.225038</td>\n",
       "      <td>-0.642098</td>\n",
       "      <td>-0.252844</td>\n",
       "      <td>-0.664137</td>\n",
       "      <td>-1.326125</td>\n",
       "    </tr>\n",
       "    <tr>\n",
       "      <th>3</th>\n",
       "      <td>-1.308298</td>\n",
       "      <td>-0.837665</td>\n",
       "      <td>-0.432228</td>\n",
       "      <td>-0.860039</td>\n",
       "      <td>-1.162721</td>\n",
       "      <td>-0.230683</td>\n",
       "      <td>-0.618422</td>\n",
       "      <td>0.043013</td>\n",
       "      <td>-0.513555</td>\n",
       "      <td>-0.820689</td>\n",
       "      <td>0.650818</td>\n",
       "    </tr>\n",
       "    <tr>\n",
       "      <th>4</th>\n",
       "      <td>0.137737</td>\n",
       "      <td>0.911435</td>\n",
       "      <td>1.622636</td>\n",
       "      <td>-0.289647</td>\n",
       "      <td>-0.155686</td>\n",
       "      <td>0.044143</td>\n",
       "      <td>0.095038</td>\n",
       "      <td>1.493491</td>\n",
       "      <td>0.236737</td>\n",
       "      <td>-1.149165</td>\n",
       "      <td>-0.540820</td>\n",
       "    </tr>\n",
       "  </tbody>\n",
       "</table>\n",
       "</div>"
      ],
      "text/plain": [
       "          R        2B        3B        HR        BB        SO        SB  \\\n",
       "0  0.962544  1.685188  1.006150 -0.741927 -1.605198 -2.550612  0.936132   \n",
       "1  0.298863  0.138198  1.185227 -0.109958 -0.462096  0.093683 -0.516377   \n",
       "2 -0.312105  1.907385 -0.228819 -0.664354  1.232098 -0.935611  0.225038   \n",
       "3 -1.308298 -0.837665 -0.432228 -0.860039 -1.162721 -0.230683 -0.618422   \n",
       "4  0.137737  0.911435  1.622636 -0.289647 -0.155686  0.044143  0.095038   \n",
       "\n",
       "        ERA       SHO        SV         E  \n",
       "0 -0.509292 -0.787002  1.532753 -0.348265  \n",
       "1  0.241440  0.236737  0.312020 -0.540820  \n",
       "2 -0.642098 -0.252844 -0.664137 -1.326125  \n",
       "3  0.043013 -0.513555 -0.820689  0.650818  \n",
       "4  1.493491  0.236737 -1.149165 -0.540820  "
      ]
     },
     "execution_count": 30,
     "metadata": {},
     "output_type": "execute_result"
    }
   ],
   "source": [
    "x.head()"
   ]
  },
  {
   "cell_type": "code",
   "execution_count": 31,
   "id": "b7e1529a",
   "metadata": {},
   "outputs": [
    {
     "data": {
      "text/plain": [
       "R     -0.024842\n",
       "2B    -0.052793\n",
       "3B    -0.075139\n",
       "HR     0.000448\n",
       "BB    -0.008572\n",
       "SO     0.051530\n",
       "SB    -0.009570\n",
       "ERA   -0.000401\n",
       "SHO    0.000529\n",
       "SV    -0.000925\n",
       "E      0.065585\n",
       "dtype: float64"
      ]
     },
     "execution_count": 31,
     "metadata": {},
     "output_type": "execute_result"
    }
   ],
   "source": [
    "x.skew()"
   ]
  },
  {
   "cell_type": "markdown",
   "id": "8ff445ab",
   "metadata": {},
   "source": [
    "We can observe that skewness is removed from the dataset"
   ]
  },
  {
   "cell_type": "markdown",
   "id": "b5223acd",
   "metadata": {},
   "source": [
    "# Data Standardisation"
   ]
  },
  {
   "cell_type": "code",
   "execution_count": 32,
   "id": "71967b0e",
   "metadata": {},
   "outputs": [
    {
     "data": {
      "text/html": [
       "<div>\n",
       "<style scoped>\n",
       "    .dataframe tbody tr th:only-of-type {\n",
       "        vertical-align: middle;\n",
       "    }\n",
       "\n",
       "    .dataframe tbody tr th {\n",
       "        vertical-align: top;\n",
       "    }\n",
       "\n",
       "    .dataframe thead th {\n",
       "        text-align: right;\n",
       "    }\n",
       "</style>\n",
       "<table border=\"1\" class=\"dataframe\">\n",
       "  <thead>\n",
       "    <tr style=\"text-align: right;\">\n",
       "      <th></th>\n",
       "      <th>R</th>\n",
       "      <th>2B</th>\n",
       "      <th>3B</th>\n",
       "      <th>HR</th>\n",
       "      <th>BB</th>\n",
       "      <th>SO</th>\n",
       "      <th>SB</th>\n",
       "      <th>ERA</th>\n",
       "      <th>SHO</th>\n",
       "      <th>SV</th>\n",
       "      <th>E</th>\n",
       "    </tr>\n",
       "  </thead>\n",
       "  <tbody>\n",
       "    <tr>\n",
       "      <th>0</th>\n",
       "      <td>0.962544</td>\n",
       "      <td>1.685188</td>\n",
       "      <td>1.006150</td>\n",
       "      <td>-0.741927</td>\n",
       "      <td>-1.605198</td>\n",
       "      <td>-2.550612</td>\n",
       "      <td>0.936132</td>\n",
       "      <td>-0.509292</td>\n",
       "      <td>-0.787002</td>\n",
       "      <td>1.532753</td>\n",
       "      <td>-0.348265</td>\n",
       "    </tr>\n",
       "    <tr>\n",
       "      <th>1</th>\n",
       "      <td>0.298863</td>\n",
       "      <td>0.138198</td>\n",
       "      <td>1.185227</td>\n",
       "      <td>-0.109958</td>\n",
       "      <td>-0.462096</td>\n",
       "      <td>0.093683</td>\n",
       "      <td>-0.516377</td>\n",
       "      <td>0.241440</td>\n",
       "      <td>0.236737</td>\n",
       "      <td>0.312020</td>\n",
       "      <td>-0.540820</td>\n",
       "    </tr>\n",
       "    <tr>\n",
       "      <th>2</th>\n",
       "      <td>-0.312105</td>\n",
       "      <td>1.907385</td>\n",
       "      <td>-0.228819</td>\n",
       "      <td>-0.664354</td>\n",
       "      <td>1.232098</td>\n",
       "      <td>-0.935611</td>\n",
       "      <td>0.225038</td>\n",
       "      <td>-0.642098</td>\n",
       "      <td>-0.252844</td>\n",
       "      <td>-0.664137</td>\n",
       "      <td>-1.326125</td>\n",
       "    </tr>\n",
       "    <tr>\n",
       "      <th>3</th>\n",
       "      <td>-1.308298</td>\n",
       "      <td>-0.837665</td>\n",
       "      <td>-0.432228</td>\n",
       "      <td>-0.860039</td>\n",
       "      <td>-1.162721</td>\n",
       "      <td>-0.230683</td>\n",
       "      <td>-0.618422</td>\n",
       "      <td>0.043013</td>\n",
       "      <td>-0.513555</td>\n",
       "      <td>-0.820689</td>\n",
       "      <td>0.650818</td>\n",
       "    </tr>\n",
       "    <tr>\n",
       "      <th>4</th>\n",
       "      <td>0.137737</td>\n",
       "      <td>0.911435</td>\n",
       "      <td>1.622636</td>\n",
       "      <td>-0.289647</td>\n",
       "      <td>-0.155686</td>\n",
       "      <td>0.044143</td>\n",
       "      <td>0.095038</td>\n",
       "      <td>1.493491</td>\n",
       "      <td>0.236737</td>\n",
       "      <td>-1.149165</td>\n",
       "      <td>-0.540820</td>\n",
       "    </tr>\n",
       "    <tr>\n",
       "      <th>5</th>\n",
       "      <td>1.964209</td>\n",
       "      <td>-0.163010</td>\n",
       "      <td>-1.295827</td>\n",
       "      <td>1.631637</td>\n",
       "      <td>1.579494</td>\n",
       "      <td>-0.269583</td>\n",
       "      <td>-0.884526</td>\n",
       "      <td>0.153276</td>\n",
       "      <td>-2.064039</td>\n",
       "      <td>0.677176</td>\n",
       "      <td>0.082858</td>\n",
       "    </tr>\n",
       "    <tr>\n",
       "      <th>6</th>\n",
       "      <td>0.698146</td>\n",
       "      <td>-1.542635</td>\n",
       "      <td>-1.182758</td>\n",
       "      <td>1.767734</td>\n",
       "      <td>-0.877217</td>\n",
       "      <td>0.770980</td>\n",
       "      <td>-2.082843</td>\n",
       "      <td>0.197363</td>\n",
       "      <td>-0.252844</td>\n",
       "      <td>0.052325</td>\n",
       "      <td>-1.588197</td>\n",
       "    </tr>\n",
       "    <tr>\n",
       "      <th>7</th>\n",
       "      <td>-0.852595</td>\n",
       "      <td>0.199897</td>\n",
       "      <td>0.068703</td>\n",
       "      <td>0.269125</td>\n",
       "      <td>-0.520476</td>\n",
       "      <td>0.556008</td>\n",
       "      <td>0.267558</td>\n",
       "      <td>-0.487168</td>\n",
       "      <td>0.236737</td>\n",
       "      <td>1.908137</td>\n",
       "      <td>0.237592</td>\n",
       "    </tr>\n",
       "    <tr>\n",
       "      <th>8</th>\n",
       "      <td>1.555951</td>\n",
       "      <td>1.255256</td>\n",
       "      <td>0.166017</td>\n",
       "      <td>0.065014</td>\n",
       "      <td>0.270944</td>\n",
       "      <td>-1.019210</td>\n",
       "      <td>-0.466233</td>\n",
       "      <td>0.769577</td>\n",
       "      <td>-0.252844</td>\n",
       "      <td>-0.365006</td>\n",
       "      <td>0.383386</td>\n",
       "    </tr>\n",
       "    <tr>\n",
       "      <th>9</th>\n",
       "      <td>1.631727</td>\n",
       "      <td>0.262086</td>\n",
       "      <td>0.068703</td>\n",
       "      <td>0.434620</td>\n",
       "      <td>0.717576</td>\n",
       "      <td>-0.211199</td>\n",
       "      <td>0.824915</td>\n",
       "      <td>0.615685</td>\n",
       "      <td>-0.513555</td>\n",
       "      <td>0.312020</td>\n",
       "      <td>1.554265</td>\n",
       "    </tr>\n",
       "    <tr>\n",
       "      <th>10</th>\n",
       "      <td>1.084297</td>\n",
       "      <td>0.199897</td>\n",
       "      <td>-0.535590</td>\n",
       "      <td>2.109761</td>\n",
       "      <td>0.415731</td>\n",
       "      <td>1.409203</td>\n",
       "      <td>1.521413</td>\n",
       "      <td>-0.863664</td>\n",
       "      <td>0.468029</td>\n",
       "      <td>-0.512328</td>\n",
       "      <td>-0.641926</td>\n",
       "    </tr>\n",
       "    <tr>\n",
       "      <th>11</th>\n",
       "      <td>-0.487692</td>\n",
       "      <td>-1.682709</td>\n",
       "      <td>-1.071323</td>\n",
       "      <td>0.564164</td>\n",
       "      <td>-0.540002</td>\n",
       "      <td>-1.000673</td>\n",
       "      <td>-1.535760</td>\n",
       "      <td>-0.045244</td>\n",
       "      <td>0.236737</td>\n",
       "      <td>0.436838</td>\n",
       "      <td>0.082858</td>\n",
       "    </tr>\n",
       "    <tr>\n",
       "      <th>12</th>\n",
       "      <td>-0.596176</td>\n",
       "      <td>-0.729847</td>\n",
       "      <td>-0.961425</td>\n",
       "      <td>1.235848</td>\n",
       "      <td>0.270944</td>\n",
       "      <td>0.822524</td>\n",
       "      <td>-0.567102</td>\n",
       "      <td>0.439660</td>\n",
       "      <td>0.236737</td>\n",
       "      <td>0.312020</td>\n",
       "      <td>0.161388</td>\n",
       "    </tr>\n",
       "    <tr>\n",
       "      <th>13</th>\n",
       "      <td>0.252632</td>\n",
       "      <td>0.138198</td>\n",
       "      <td>1.361887</td>\n",
       "      <td>-0.474340</td>\n",
       "      <td>0.216181</td>\n",
       "      <td>-1.285401</td>\n",
       "      <td>-0.130312</td>\n",
       "      <td>0.395629</td>\n",
       "      <td>0.908147</td>\n",
       "      <td>-2.498840</td>\n",
       "      <td>1.810553</td>\n",
       "    </tr>\n",
       "    <tr>\n",
       "      <th>14</th>\n",
       "      <td>-0.789011</td>\n",
       "      <td>0.844222</td>\n",
       "      <td>0.732678</td>\n",
       "      <td>-0.820431</td>\n",
       "      <td>0.770046</td>\n",
       "      <td>0.123475</td>\n",
       "      <td>-0.567102</td>\n",
       "      <td>-2.266376</td>\n",
       "      <td>0.908147</td>\n",
       "      <td>2.084917</td>\n",
       "      <td>0.311562</td>\n",
       "    </tr>\n",
       "    <tr>\n",
       "      <th>15</th>\n",
       "      <td>0.322037</td>\n",
       "      <td>1.116168</td>\n",
       "      <td>-0.432228</td>\n",
       "      <td>-0.703026</td>\n",
       "      <td>-0.042862</td>\n",
       "      <td>0.678550</td>\n",
       "      <td>0.710994</td>\n",
       "      <td>-1.663712</td>\n",
       "      <td>0.468029</td>\n",
       "      <td>1.333006</td>\n",
       "      <td>1.669209</td>\n",
       "    </tr>\n",
       "    <tr>\n",
       "      <th>16</th>\n",
       "      <td>0.137737</td>\n",
       "      <td>-0.163010</td>\n",
       "      <td>-0.128676</td>\n",
       "      <td>0.401843</td>\n",
       "      <td>1.789632</td>\n",
       "      <td>2.791487</td>\n",
       "      <td>0.594218</td>\n",
       "      <td>-1.329889</td>\n",
       "      <td>2.090856</td>\n",
       "      <td>0.677176</td>\n",
       "      <td>1.203715</td>\n",
       "    </tr>\n",
       "    <tr>\n",
       "      <th>17</th>\n",
       "      <td>-0.617757</td>\n",
       "      <td>-0.043976</td>\n",
       "      <td>0.262460</td>\n",
       "      <td>-0.511906</td>\n",
       "      <td>-0.998685</td>\n",
       "      <td>0.444379</td>\n",
       "      <td>0.138787</td>\n",
       "      <td>0.703638</td>\n",
       "      <td>-1.075340</td>\n",
       "      <td>-0.365006</td>\n",
       "      <td>1.430810</td>\n",
       "    </tr>\n",
       "    <tr>\n",
       "      <th>18</th>\n",
       "      <td>-0.936834</td>\n",
       "      <td>-0.996003</td>\n",
       "      <td>-0.432228</td>\n",
       "      <td>0.269125</td>\n",
       "      <td>0.594227</td>\n",
       "      <td>0.004612</td>\n",
       "      <td>1.925528</td>\n",
       "      <td>0.813525</td>\n",
       "      <td>-0.787002</td>\n",
       "      <td>-1.149165</td>\n",
       "      <td>-0.167685</td>\n",
       "    </tr>\n",
       "    <tr>\n",
       "      <th>19</th>\n",
       "      <td>0.001150</td>\n",
       "      <td>1.325587</td>\n",
       "      <td>-1.527310</td>\n",
       "      <td>0.596168</td>\n",
       "      <td>0.451649</td>\n",
       "      <td>0.353547</td>\n",
       "      <td>-1.600293</td>\n",
       "      <td>-1.174337</td>\n",
       "      <td>0.691583</td>\n",
       "      <td>0.906024</td>\n",
       "      <td>-0.348265</td>\n",
       "    </tr>\n",
       "    <tr>\n",
       "      <th>20</th>\n",
       "      <td>0.461904</td>\n",
       "      <td>-0.564688</td>\n",
       "      <td>-2.015649</td>\n",
       "      <td>0.596168</td>\n",
       "      <td>1.332385</td>\n",
       "      <td>0.905280</td>\n",
       "      <td>-1.227262</td>\n",
       "      <td>-0.752845</td>\n",
       "      <td>0.468029</td>\n",
       "      <td>-0.221934</td>\n",
       "      <td>-0.167685</td>\n",
       "    </tr>\n",
       "    <tr>\n",
       "      <th>21</th>\n",
       "      <td>-1.489372</td>\n",
       "      <td>-1.995042</td>\n",
       "      <td>0.824510</td>\n",
       "      <td>-1.529112</td>\n",
       "      <td>-1.778543</td>\n",
       "      <td>-1.000673</td>\n",
       "      <td>1.220510</td>\n",
       "      <td>0.131229</td>\n",
       "      <td>0.236737</td>\n",
       "      <td>-1.149165</td>\n",
       "      <td>-1.588197</td>\n",
       "    </tr>\n",
       "    <tr>\n",
       "      <th>22</th>\n",
       "      <td>-2.256817</td>\n",
       "      <td>-1.300683</td>\n",
       "      <td>-1.410638</td>\n",
       "      <td>-2.478298</td>\n",
       "      <td>0.142759</td>\n",
       "      <td>-1.394124</td>\n",
       "      <td>-0.567102</td>\n",
       "      <td>0.989217</td>\n",
       "      <td>-0.252844</td>\n",
       "      <td>0.183904</td>\n",
       "      <td>-0.167685</td>\n",
       "    </tr>\n",
       "    <tr>\n",
       "      <th>23</th>\n",
       "      <td>-1.226825</td>\n",
       "      <td>-0.163010</td>\n",
       "      <td>0.546878</td>\n",
       "      <td>-1.102893</td>\n",
       "      <td>-1.519540</td>\n",
       "      <td>0.193184</td>\n",
       "      <td>0.309686</td>\n",
       "      <td>1.602954</td>\n",
       "      <td>-1.075340</td>\n",
       "      <td>-1.149165</td>\n",
       "      <td>1.472959</td>\n",
       "    </tr>\n",
       "    <tr>\n",
       "      <th>24</th>\n",
       "      <td>-0.356235</td>\n",
       "      <td>-0.675253</td>\n",
       "      <td>-0.535590</td>\n",
       "      <td>0.908214</td>\n",
       "      <td>1.725362</td>\n",
       "      <td>0.034252</td>\n",
       "      <td>-1.109925</td>\n",
       "      <td>-1.152127</td>\n",
       "      <td>2.090856</td>\n",
       "      <td>0.558509</td>\n",
       "      <td>-1.870191</td>\n",
       "    </tr>\n",
       "    <tr>\n",
       "      <th>25</th>\n",
       "      <td>0.298863</td>\n",
       "      <td>0.844222</td>\n",
       "      <td>0.732678</td>\n",
       "      <td>-0.860039</td>\n",
       "      <td>-0.117955</td>\n",
       "      <td>-0.916971</td>\n",
       "      <td>0.514700</td>\n",
       "      <td>-0.531419</td>\n",
       "      <td>1.521828</td>\n",
       "      <td>-0.221934</td>\n",
       "      <td>-1.454792</td>\n",
       "    </tr>\n",
       "    <tr>\n",
       "      <th>26</th>\n",
       "      <td>0.865849</td>\n",
       "      <td>0.911435</td>\n",
       "      <td>1.536265</td>\n",
       "      <td>-0.181252</td>\n",
       "      <td>0.487457</td>\n",
       "      <td>0.576376</td>\n",
       "      <td>1.865486</td>\n",
       "      <td>0.175321</td>\n",
       "      <td>0.236737</td>\n",
       "      <td>0.183904</td>\n",
       "      <td>-0.540820</td>\n",
       "    </tr>\n",
       "    <tr>\n",
       "      <th>27</th>\n",
       "      <td>-0.725080</td>\n",
       "      <td>-0.837665</td>\n",
       "      <td>0.452861</td>\n",
       "      <td>-0.399842</td>\n",
       "      <td>-0.717273</td>\n",
       "      <td>0.729845</td>\n",
       "      <td>0.050861</td>\n",
       "      <td>0.285507</td>\n",
       "      <td>-1.381412</td>\n",
       "      <td>-0.221934</td>\n",
       "      <td>0.001905</td>\n",
       "    </tr>\n",
       "    <tr>\n",
       "      <th>28</th>\n",
       "      <td>1.281152</td>\n",
       "      <td>-0.043976</td>\n",
       "      <td>1.622636</td>\n",
       "      <td>0.877642</td>\n",
       "      <td>-1.498230</td>\n",
       "      <td>0.283212</td>\n",
       "      <td>0.672394</td>\n",
       "      <td>2.367642</td>\n",
       "      <td>-2.064039</td>\n",
       "      <td>-0.982264</td>\n",
       "      <td>0.237592</td>\n",
       "    </tr>\n",
       "  </tbody>\n",
       "</table>\n",
       "</div>"
      ],
      "text/plain": [
       "           R        2B        3B        HR        BB        SO        SB  \\\n",
       "0   0.962544  1.685188  1.006150 -0.741927 -1.605198 -2.550612  0.936132   \n",
       "1   0.298863  0.138198  1.185227 -0.109958 -0.462096  0.093683 -0.516377   \n",
       "2  -0.312105  1.907385 -0.228819 -0.664354  1.232098 -0.935611  0.225038   \n",
       "3  -1.308298 -0.837665 -0.432228 -0.860039 -1.162721 -0.230683 -0.618422   \n",
       "4   0.137737  0.911435  1.622636 -0.289647 -0.155686  0.044143  0.095038   \n",
       "5   1.964209 -0.163010 -1.295827  1.631637  1.579494 -0.269583 -0.884526   \n",
       "6   0.698146 -1.542635 -1.182758  1.767734 -0.877217  0.770980 -2.082843   \n",
       "7  -0.852595  0.199897  0.068703  0.269125 -0.520476  0.556008  0.267558   \n",
       "8   1.555951  1.255256  0.166017  0.065014  0.270944 -1.019210 -0.466233   \n",
       "9   1.631727  0.262086  0.068703  0.434620  0.717576 -0.211199  0.824915   \n",
       "10  1.084297  0.199897 -0.535590  2.109761  0.415731  1.409203  1.521413   \n",
       "11 -0.487692 -1.682709 -1.071323  0.564164 -0.540002 -1.000673 -1.535760   \n",
       "12 -0.596176 -0.729847 -0.961425  1.235848  0.270944  0.822524 -0.567102   \n",
       "13  0.252632  0.138198  1.361887 -0.474340  0.216181 -1.285401 -0.130312   \n",
       "14 -0.789011  0.844222  0.732678 -0.820431  0.770046  0.123475 -0.567102   \n",
       "15  0.322037  1.116168 -0.432228 -0.703026 -0.042862  0.678550  0.710994   \n",
       "16  0.137737 -0.163010 -0.128676  0.401843  1.789632  2.791487  0.594218   \n",
       "17 -0.617757 -0.043976  0.262460 -0.511906 -0.998685  0.444379  0.138787   \n",
       "18 -0.936834 -0.996003 -0.432228  0.269125  0.594227  0.004612  1.925528   \n",
       "19  0.001150  1.325587 -1.527310  0.596168  0.451649  0.353547 -1.600293   \n",
       "20  0.461904 -0.564688 -2.015649  0.596168  1.332385  0.905280 -1.227262   \n",
       "21 -1.489372 -1.995042  0.824510 -1.529112 -1.778543 -1.000673  1.220510   \n",
       "22 -2.256817 -1.300683 -1.410638 -2.478298  0.142759 -1.394124 -0.567102   \n",
       "23 -1.226825 -0.163010  0.546878 -1.102893 -1.519540  0.193184  0.309686   \n",
       "24 -0.356235 -0.675253 -0.535590  0.908214  1.725362  0.034252 -1.109925   \n",
       "25  0.298863  0.844222  0.732678 -0.860039 -0.117955 -0.916971  0.514700   \n",
       "26  0.865849  0.911435  1.536265 -0.181252  0.487457  0.576376  1.865486   \n",
       "27 -0.725080 -0.837665  0.452861 -0.399842 -0.717273  0.729845  0.050861   \n",
       "28  1.281152 -0.043976  1.622636  0.877642 -1.498230  0.283212  0.672394   \n",
       "\n",
       "         ERA       SHO        SV         E  \n",
       "0  -0.509292 -0.787002  1.532753 -0.348265  \n",
       "1   0.241440  0.236737  0.312020 -0.540820  \n",
       "2  -0.642098 -0.252844 -0.664137 -1.326125  \n",
       "3   0.043013 -0.513555 -0.820689  0.650818  \n",
       "4   1.493491  0.236737 -1.149165 -0.540820  \n",
       "5   0.153276 -2.064039  0.677176  0.082858  \n",
       "6   0.197363 -0.252844  0.052325 -1.588197  \n",
       "7  -0.487168  0.236737  1.908137  0.237592  \n",
       "8   0.769577 -0.252844 -0.365006  0.383386  \n",
       "9   0.615685 -0.513555  0.312020  1.554265  \n",
       "10 -0.863664  0.468029 -0.512328 -0.641926  \n",
       "11 -0.045244  0.236737  0.436838  0.082858  \n",
       "12  0.439660  0.236737  0.312020  0.161388  \n",
       "13  0.395629  0.908147 -2.498840  1.810553  \n",
       "14 -2.266376  0.908147  2.084917  0.311562  \n",
       "15 -1.663712  0.468029  1.333006  1.669209  \n",
       "16 -1.329889  2.090856  0.677176  1.203715  \n",
       "17  0.703638 -1.075340 -0.365006  1.430810  \n",
       "18  0.813525 -0.787002 -1.149165 -0.167685  \n",
       "19 -1.174337  0.691583  0.906024 -0.348265  \n",
       "20 -0.752845  0.468029 -0.221934 -0.167685  \n",
       "21  0.131229  0.236737 -1.149165 -1.588197  \n",
       "22  0.989217 -0.252844  0.183904 -0.167685  \n",
       "23  1.602954 -1.075340 -1.149165  1.472959  \n",
       "24 -1.152127  2.090856  0.558509 -1.870191  \n",
       "25 -0.531419  1.521828 -0.221934 -1.454792  \n",
       "26  0.175321  0.236737  0.183904 -0.540820  \n",
       "27  0.285507 -1.381412 -0.221934  0.001905  \n",
       "28  2.367642 -2.064039 -0.982264  0.237592  "
      ]
     },
     "execution_count": 32,
     "metadata": {},
     "output_type": "execute_result"
    }
   ],
   "source": [
    "from sklearn.preprocessing import StandardScaler\n",
    "scaler = StandardScaler()\n",
    "x=pd.DataFrame(scaler.fit_transform(x), columns=x.columns)\n",
    "x"
   ]
  },
  {
   "cell_type": "markdown",
   "id": "2f9438d2",
   "metadata": {},
   "source": [
    "# Check for multicollierinity"
   ]
  },
  {
   "cell_type": "code",
   "execution_count": 33,
   "id": "dc2311de",
   "metadata": {
    "scrolled": true
   },
   "outputs": [],
   "source": [
    "from statsmodels.stats.outliers_influence import variance_inflation_factor"
   ]
  },
  {
   "cell_type": "code",
   "execution_count": 34,
   "id": "a35133aa",
   "metadata": {},
   "outputs": [
    {
     "data": {
      "text/html": [
       "<div>\n",
       "<style scoped>\n",
       "    .dataframe tbody tr th:only-of-type {\n",
       "        vertical-align: middle;\n",
       "    }\n",
       "\n",
       "    .dataframe tbody tr th {\n",
       "        vertical-align: top;\n",
       "    }\n",
       "\n",
       "    .dataframe thead th {\n",
       "        text-align: right;\n",
       "    }\n",
       "</style>\n",
       "<table border=\"1\" class=\"dataframe\">\n",
       "  <thead>\n",
       "    <tr style=\"text-align: right;\">\n",
       "      <th></th>\n",
       "      <th>vif1</th>\n",
       "      <th>features</th>\n",
       "    </tr>\n",
       "  </thead>\n",
       "  <tbody>\n",
       "    <tr>\n",
       "      <th>0</th>\n",
       "      <td>3.584952</td>\n",
       "      <td>R</td>\n",
       "    </tr>\n",
       "    <tr>\n",
       "      <th>1</th>\n",
       "      <td>2.276937</td>\n",
       "      <td>2B</td>\n",
       "    </tr>\n",
       "    <tr>\n",
       "      <th>2</th>\n",
       "      <td>2.897118</td>\n",
       "      <td>3B</td>\n",
       "    </tr>\n",
       "    <tr>\n",
       "      <th>3</th>\n",
       "      <td>4.156882</td>\n",
       "      <td>HR</td>\n",
       "    </tr>\n",
       "    <tr>\n",
       "      <th>4</th>\n",
       "      <td>2.178159</td>\n",
       "      <td>BB</td>\n",
       "    </tr>\n",
       "    <tr>\n",
       "      <th>5</th>\n",
       "      <td>2.092439</td>\n",
       "      <td>SO</td>\n",
       "    </tr>\n",
       "    <tr>\n",
       "      <th>6</th>\n",
       "      <td>1.640592</td>\n",
       "      <td>SB</td>\n",
       "    </tr>\n",
       "    <tr>\n",
       "      <th>7</th>\n",
       "      <td>3.667645</td>\n",
       "      <td>ERA</td>\n",
       "    </tr>\n",
       "    <tr>\n",
       "      <th>8</th>\n",
       "      <td>2.646814</td>\n",
       "      <td>SHO</td>\n",
       "    </tr>\n",
       "    <tr>\n",
       "      <th>9</th>\n",
       "      <td>1.950140</td>\n",
       "      <td>SV</td>\n",
       "    </tr>\n",
       "    <tr>\n",
       "      <th>10</th>\n",
       "      <td>1.322988</td>\n",
       "      <td>E</td>\n",
       "    </tr>\n",
       "  </tbody>\n",
       "</table>\n",
       "</div>"
      ],
      "text/plain": [
       "        vif1 features\n",
       "0   3.584952        R\n",
       "1   2.276937       2B\n",
       "2   2.897118       3B\n",
       "3   4.156882       HR\n",
       "4   2.178159       BB\n",
       "5   2.092439       SO\n",
       "6   1.640592       SB\n",
       "7   3.667645      ERA\n",
       "8   2.646814      SHO\n",
       "9   1.950140       SV\n",
       "10  1.322988        E"
      ]
     },
     "execution_count": 34,
     "metadata": {},
     "output_type": "execute_result"
    }
   ],
   "source": [
    "vif=pd.DataFrame()\n",
    "vif['vif1']=[variance_inflation_factor(x,i) for i in range(x.shape[1])]\n",
    "vif['features']=x.columns\n",
    "vif"
   ]
  },
  {
   "cell_type": "code",
   "execution_count": null,
   "id": "e518f7ff",
   "metadata": {},
   "outputs": [],
   "source": []
  },
  {
   "cell_type": "markdown",
   "id": "c48aec78",
   "metadata": {},
   "source": [
    "# Training our model"
   ]
  },
  {
   "cell_type": "markdown",
   "id": "38b62bb8",
   "metadata": {},
   "source": [
    "# Using Linear Regression "
   ]
  },
  {
   "cell_type": "code",
   "execution_count": 35,
   "id": "e47fb037",
   "metadata": {},
   "outputs": [],
   "source": [
    "from sklearn.linear_model import LinearRegression\n",
    "from sklearn.model_selection import train_test_split\n",
    "from sklearn.metrics import r2_score,accuracy_score\n",
    "from sklearn.metrics import mean_squared_error,mean_absolute_error"
   ]
  },
  {
   "cell_type": "code",
   "execution_count": 36,
   "id": "42d311e8",
   "metadata": {},
   "outputs": [],
   "source": [
    "lr=LinearRegression()"
   ]
  },
  {
   "cell_type": "markdown",
   "id": "da507b88",
   "metadata": {},
   "source": [
    "### Finding the best random state"
   ]
  },
  {
   "cell_type": "code",
   "execution_count": 37,
   "id": "11abe3b2",
   "metadata": {},
   "outputs": [
    {
     "name": "stdout",
     "output_type": "stream",
     "text": [
      "Testing accuracy 0.24577813192776432 random state 0\n",
      "max_accuracy 0.24577813192776432 max_random_state 0\n",
      "Testing accuracy 0.935720193366311 random state 1\n",
      "max_accuracy 0.935720193366311 max_random_state 1\n",
      "Testing accuracy 0.0319764061832889 random state 2\n",
      "Testing accuracy 0.8628608197754128 random state 3\n",
      "Testing accuracy 0.8173552726632852 random state 4\n",
      "Testing accuracy 0.6141972517669956 random state 5\n",
      "Testing accuracy 0.8962781032745712 random state 6\n",
      "Testing accuracy 0.5463541716004376 random state 7\n",
      "Testing accuracy 0.7867955319997543 random state 8\n",
      "Testing accuracy 0.5065315666944292 random state 9\n",
      "Testing accuracy 0.1710170470445339 random state 10\n",
      "Testing accuracy 0.11219294659286316 random state 11\n",
      "Testing accuracy 0.5956039306800736 random state 12\n",
      "Testing accuracy 0.903179901545141 random state 13\n",
      "Testing accuracy 0.7767199067137794 random state 14\n",
      "Testing accuracy 0.917947165584546 random state 15\n",
      "Testing accuracy 0.33485589098341817 random state 16\n",
      "Testing accuracy 0.7700503767531857 random state 17\n",
      "Testing accuracy -0.01778091398718762 random state 18\n",
      "Testing accuracy 0.12737772773789136 random state 19\n",
      "Testing accuracy -0.20149838408357423 random state 20\n",
      "Testing accuracy 0.6933506050965261 random state 21\n",
      "Testing accuracy 0.8011884501913481 random state 22\n",
      "Testing accuracy 0.6123690927488866 random state 23\n",
      "Testing accuracy 0.20837108264900617 random state 24\n",
      "Testing accuracy 0.4485296876563717 random state 25\n",
      "Testing accuracy 0.6421342074111236 random state 26\n",
      "Testing accuracy 0.6813179287972431 random state 27\n",
      "Testing accuracy 0.4882468854963432 random state 28\n",
      "Testing accuracy 0.817344788734904 random state 29\n",
      "Testing accuracy 0.8710609440914814 random state 30\n",
      "Testing accuracy 0.10830915415281206 random state 31\n",
      "Testing accuracy 0.13275874336305038 random state 32\n",
      "Testing accuracy 0.4836211340571557 random state 33\n",
      "Testing accuracy 0.4599239118412308 random state 34\n",
      "Testing accuracy 0.755205002924762 random state 35\n",
      "Testing accuracy 0.5472264863016805 random state 36\n",
      "Testing accuracy 0.14450232923781348 random state 37\n",
      "Testing accuracy 0.5655763214957058 random state 38\n",
      "Testing accuracy 0.3716310160245553 random state 39\n",
      "Testing accuracy 0.4264291672203656 random state 40\n",
      "Testing accuracy 0.7861685730575441 random state 41\n",
      "Testing accuracy 0.7193801869590881 random state 42\n",
      "Testing accuracy -0.31844246223894723 random state 43\n",
      "Testing accuracy 0.5453939950336116 random state 44\n",
      "Testing accuracy 0.41471429521369874 random state 45\n",
      "Testing accuracy 0.8896769015438086 random state 46\n",
      "Testing accuracy 0.9588050140258868 random state 47\n",
      "max_accuracy 0.9588050140258868 max_random_state 47\n",
      "Testing accuracy 0.4455216793502922 random state 48\n",
      "Testing accuracy -0.1684042786834834 random state 49\n",
      "Testing accuracy 0.8410364690106514 random state 50\n",
      "Testing accuracy 0.5523822247924141 random state 51\n",
      "Testing accuracy 0.28428172155166387 random state 52\n",
      "Testing accuracy 0.43833400529029753 random state 53\n",
      "Testing accuracy 0.2051973764308227 random state 54\n",
      "Testing accuracy 0.4318507197506162 random state 55\n",
      "Testing accuracy 0.5951450976122357 random state 56\n",
      "Testing accuracy 0.6983982025586546 random state 57\n",
      "Testing accuracy 0.5923199916011801 random state 58\n",
      "Testing accuracy 0.5511634522022248 random state 59\n",
      "Testing accuracy 0.3875657768046191 random state 60\n",
      "Testing accuracy 0.6422629924120303 random state 61\n",
      "Testing accuracy 0.45973580994071006 random state 62\n",
      "Testing accuracy 0.496997820476489 random state 63\n",
      "Testing accuracy 0.859531406661621 random state 64\n",
      "Testing accuracy 0.38032876365388013 random state 65\n",
      "Testing accuracy 0.7612179803279672 random state 66\n",
      "Testing accuracy 0.9078345977523342 random state 67\n",
      "Testing accuracy 0.7980355536093775 random state 68\n",
      "Testing accuracy 0.9846032552880458 random state 69\n",
      "max_accuracy 0.9846032552880458 max_random_state 69\n",
      "Testing accuracy 0.4825411536514712 random state 70\n",
      "Testing accuracy -2.254932112823966 random state 71\n",
      "Testing accuracy 0.4241338502442288 random state 72\n",
      "Testing accuracy 0.8438999285792957 random state 73\n",
      "Testing accuracy -0.1397741057741062 random state 74\n",
      "Testing accuracy 0.9501047261920178 random state 75\n",
      "Testing accuracy 0.5443468054548833 random state 76\n",
      "Testing accuracy 0.6763685022191319 random state 77\n",
      "Testing accuracy 0.7625023637582935 random state 78\n",
      "Testing accuracy 0.7749703692315929 random state 79\n",
      "Testing accuracy 0.47561574851566646 random state 80\n",
      "Testing accuracy 0.6876865459491708 random state 81\n",
      "Testing accuracy 0.7907621073869675 random state 82\n",
      "Testing accuracy 0.4073948355915753 random state 83\n",
      "Testing accuracy 0.6337603474185207 random state 84\n",
      "Testing accuracy 0.7712764257675183 random state 85\n",
      "Testing accuracy 0.7105583057248148 random state 86\n",
      "Testing accuracy 0.8901023377016983 random state 87\n",
      "Testing accuracy -0.754498407149881 random state 88\n",
      "Testing accuracy 0.8449958003606983 random state 89\n",
      "Testing accuracy 0.8718804660044667 random state 90\n",
      "Testing accuracy 0.38867112570159856 random state 91\n",
      "Testing accuracy 0.629855180565285 random state 92\n",
      "Testing accuracy 0.17950059787737827 random state 93\n",
      "Testing accuracy 0.6301708497952734 random state 94\n",
      "Testing accuracy 0.8620398804626128 random state 95\n",
      "Testing accuracy 0.3962064770573156 random state 96\n",
      "Testing accuracy 0.827355974372007 random state 97\n",
      "Testing accuracy 0.24269433427960752 random state 98\n",
      "Testing accuracy 0.8908696178548698 random state 99\n",
      "Testing accuracy 0.3707809408802768 random state 100\n",
      "Testing accuracy 0.0506720248413397 random state 101\n",
      "Testing accuracy 0.633632880662159 random state 102\n",
      "Testing accuracy 0.7542739540270466 random state 103\n",
      "Testing accuracy 0.9420107700513275 random state 104\n",
      "Testing accuracy -2.98173570301921 random state 105\n",
      "Testing accuracy 0.8893735536435528 random state 106\n",
      "Testing accuracy -0.005923867580044151 random state 107\n",
      "Testing accuracy 0.56544469028707 random state 108\n",
      "Testing accuracy -1.7726609574506655 random state 109\n",
      "Testing accuracy -0.27829588514039316 random state 110\n",
      "Testing accuracy 0.5447478405226389 random state 111\n",
      "Testing accuracy -0.335594206886213 random state 112\n",
      "Testing accuracy 0.804612084320749 random state 113\n",
      "Testing accuracy 0.3457241898576806 random state 114\n",
      "Testing accuracy 0.3655080196277122 random state 115\n",
      "Testing accuracy 0.7408536195207973 random state 116\n",
      "Testing accuracy 0.8169521751774758 random state 117\n",
      "Testing accuracy 0.6174487490326662 random state 118\n",
      "Testing accuracy 0.15685510544984305 random state 119\n",
      "Testing accuracy -2.222492496897298 random state 120\n",
      "Testing accuracy 0.46464462714713983 random state 121\n",
      "Testing accuracy 0.7678568218342048 random state 122\n",
      "Testing accuracy 0.0051080375954132284 random state 123\n",
      "Testing accuracy -0.034454038927226316 random state 124\n",
      "Testing accuracy 0.5532898920630445 random state 125\n",
      "Testing accuracy -0.530375819153609 random state 126\n",
      "Testing accuracy -0.2645750100709663 random state 127\n",
      "Testing accuracy 0.12556172316665382 random state 128\n",
      "Testing accuracy 0.886376976155514 random state 129\n",
      "Testing accuracy 0.9029971837087414 random state 130\n",
      "Testing accuracy 0.5860535782359251 random state 131\n",
      "Testing accuracy 0.3316257898726589 random state 132\n",
      "Testing accuracy 0.8483077638694243 random state 133\n",
      "Testing accuracy 0.44939764191079634 random state 134\n",
      "Testing accuracy 0.440095078180718 random state 135\n",
      "Testing accuracy 0.7305875972187341 random state 136\n",
      "Testing accuracy 0.6631337125028114 random state 137\n",
      "Testing accuracy 0.36749049200191597 random state 138\n",
      "Testing accuracy 0.7315318211086048 random state 139\n",
      "Testing accuracy 0.6319342286997434 random state 140\n",
      "Testing accuracy 0.9133051138366401 random state 141\n",
      "Testing accuracy 0.8709798319869031 random state 142\n",
      "Testing accuracy 0.7063460500239052 random state 143\n",
      "Testing accuracy 0.5221732659790056 random state 144\n",
      "Testing accuracy 0.42367894985547727 random state 145\n",
      "Testing accuracy 0.8816295280611867 random state 146\n",
      "Testing accuracy 0.41482644434673666 random state 147\n",
      "Testing accuracy 0.8393924463047981 random state 148\n",
      "Testing accuracy 0.7162359019426427 random state 149\n",
      "Testing accuracy 0.3004904185036905 random state 150\n",
      "Testing accuracy 0.26995891045574616 random state 151\n",
      "Testing accuracy 0.5844244886969057 random state 152\n",
      "Testing accuracy -0.09931574017297962 random state 153\n",
      "Testing accuracy 0.8145594964026193 random state 154\n",
      "Testing accuracy 0.5292516470845481 random state 155\n",
      "Testing accuracy 0.4990081178636333 random state 156\n",
      "Testing accuracy 0.1431558479012074 random state 157\n",
      "Testing accuracy 0.6566832592846196 random state 158\n",
      "Testing accuracy 0.8481543174153203 random state 159\n",
      "Testing accuracy 0.8174944763687779 random state 160\n",
      "Testing accuracy 0.37445038490509386 random state 161\n",
      "Testing accuracy 0.7820330543187739 random state 162\n",
      "Testing accuracy 0.4856950507208867 random state 163\n",
      "Testing accuracy 0.7614202694111318 random state 164\n",
      "Testing accuracy 0.717315965992869 random state 165\n",
      "Testing accuracy -0.3365884114540274 random state 166\n",
      "Testing accuracy 0.054168356933076756 random state 167\n",
      "Testing accuracy 0.7836083988143642 random state 168\n",
      "Testing accuracy 0.33743802026661696 random state 169\n",
      "Testing accuracy 0.14332217918957957 random state 170\n",
      "Testing accuracy 0.5410497143579424 random state 171\n",
      "Testing accuracy 0.36573410744898993 random state 172\n",
      "Testing accuracy 0.7844570999017425 random state 173\n",
      "Testing accuracy 0.5966494296714568 random state 174\n",
      "Testing accuracy 0.9104521781862165 random state 175\n",
      "Testing accuracy 0.6223984239272875 random state 176\n",
      "Testing accuracy 0.25658239534175575 random state 177\n",
      "Testing accuracy 0.4452759727445361 random state 178\n",
      "Testing accuracy 0.6508658687760461 random state 179\n",
      "Testing accuracy 0.41663890558140027 random state 180\n",
      "Testing accuracy 0.9295133398351626 random state 181\n",
      "Testing accuracy -0.7004620958586865 random state 182\n",
      "Testing accuracy 0.5985013493678792 random state 183\n",
      "Testing accuracy 0.8543003696486176 random state 184\n",
      "Testing accuracy -4.251581438419686 random state 185\n",
      "Testing accuracy 0.5606035209033549 random state 186\n",
      "Testing accuracy -0.6084641634152155 random state 187\n",
      "Testing accuracy 0.790236862505524 random state 188\n",
      "Testing accuracy 0.9433078209040978 random state 189\n",
      "Testing accuracy 0.9330291103352855 random state 190\n",
      "Testing accuracy 0.6339749828552964 random state 191\n",
      "Testing accuracy 0.479484032628112 random state 192\n",
      "Testing accuracy -2.198847119020762 random state 193\n",
      "Testing accuracy 0.6986207246638596 random state 194\n",
      "Testing accuracy 0.9629537753880605 random state 195\n",
      "Testing accuracy 0.5603393807297659 random state 196\n",
      "Testing accuracy 0.1486489791518243 random state 197\n",
      "Testing accuracy 0.8809123384182374 random state 198\n",
      "Testing accuracy 0.8112780193712055 random state 199\n"
     ]
    }
   ],
   "source": [
    "max_acc=0\n",
    "max_rs=0\n",
    "\n",
    "for i in range(0,200):\n",
    "    x_train,x_test,y_train,y_test=train_test_split(x,y,random_state=i,test_size=0.20)\n",
    "    lr=LinearRegression()\n",
    "    lr.fit(x_train,y_train)\n",
    "    pred_lr=lr.predict(x_test)\n",
    "    accuracy=r2_score(y_test,pred_lr)\n",
    "    print('Testing accuracy', accuracy,'random state',i)\n",
    "    \n",
    "    if accuracy>max_acc:\n",
    "        max_acc=accuracy\n",
    "        max_rs=i\n",
    "        print('max_accuracy',max_acc,'max_random_state',i)\n",
    "        "
   ]
  },
  {
   "cell_type": "markdown",
   "id": "9e3cec5c",
   "metadata": {},
   "source": [
    "We are getting maximum testing accuracy at random state 1"
   ]
  },
  {
   "cell_type": "markdown",
   "id": "8f558f45",
   "metadata": {},
   "source": [
    "### Train Test Split"
   ]
  },
  {
   "cell_type": "code",
   "execution_count": 38,
   "id": "2e9dd210",
   "metadata": {
    "scrolled": false
   },
   "outputs": [],
   "source": [
    "x_train,x_test,y_train,y_test=train_test_split(x,y,test_size=0.2,random_state=1)"
   ]
  },
  {
   "cell_type": "code",
   "execution_count": 39,
   "id": "97e7a20d",
   "metadata": {},
   "outputs": [],
   "source": [
    "lr=LinearRegression()"
   ]
  },
  {
   "cell_type": "code",
   "execution_count": 40,
   "id": "57a2e05d",
   "metadata": {},
   "outputs": [
    {
     "data": {
      "text/html": [
       "<style>#sk-container-id-1 {color: black;background-color: white;}#sk-container-id-1 pre{padding: 0;}#sk-container-id-1 div.sk-toggleable {background-color: white;}#sk-container-id-1 label.sk-toggleable__label {cursor: pointer;display: block;width: 100%;margin-bottom: 0;padding: 0.3em;box-sizing: border-box;text-align: center;}#sk-container-id-1 label.sk-toggleable__label-arrow:before {content: \"▸\";float: left;margin-right: 0.25em;color: #696969;}#sk-container-id-1 label.sk-toggleable__label-arrow:hover:before {color: black;}#sk-container-id-1 div.sk-estimator:hover label.sk-toggleable__label-arrow:before {color: black;}#sk-container-id-1 div.sk-toggleable__content {max-height: 0;max-width: 0;overflow: hidden;text-align: left;background-color: #f0f8ff;}#sk-container-id-1 div.sk-toggleable__content pre {margin: 0.2em;color: black;border-radius: 0.25em;background-color: #f0f8ff;}#sk-container-id-1 input.sk-toggleable__control:checked~div.sk-toggleable__content {max-height: 200px;max-width: 100%;overflow: auto;}#sk-container-id-1 input.sk-toggleable__control:checked~label.sk-toggleable__label-arrow:before {content: \"▾\";}#sk-container-id-1 div.sk-estimator input.sk-toggleable__control:checked~label.sk-toggleable__label {background-color: #d4ebff;}#sk-container-id-1 div.sk-label input.sk-toggleable__control:checked~label.sk-toggleable__label {background-color: #d4ebff;}#sk-container-id-1 input.sk-hidden--visually {border: 0;clip: rect(1px 1px 1px 1px);clip: rect(1px, 1px, 1px, 1px);height: 1px;margin: -1px;overflow: hidden;padding: 0;position: absolute;width: 1px;}#sk-container-id-1 div.sk-estimator {font-family: monospace;background-color: #f0f8ff;border: 1px dotted black;border-radius: 0.25em;box-sizing: border-box;margin-bottom: 0.5em;}#sk-container-id-1 div.sk-estimator:hover {background-color: #d4ebff;}#sk-container-id-1 div.sk-parallel-item::after {content: \"\";width: 100%;border-bottom: 1px solid gray;flex-grow: 1;}#sk-container-id-1 div.sk-label:hover label.sk-toggleable__label {background-color: #d4ebff;}#sk-container-id-1 div.sk-serial::before {content: \"\";position: absolute;border-left: 1px solid gray;box-sizing: border-box;top: 0;bottom: 0;left: 50%;z-index: 0;}#sk-container-id-1 div.sk-serial {display: flex;flex-direction: column;align-items: center;background-color: white;padding-right: 0.2em;padding-left: 0.2em;position: relative;}#sk-container-id-1 div.sk-item {position: relative;z-index: 1;}#sk-container-id-1 div.sk-parallel {display: flex;align-items: stretch;justify-content: center;background-color: white;position: relative;}#sk-container-id-1 div.sk-item::before, #sk-container-id-1 div.sk-parallel-item::before {content: \"\";position: absolute;border-left: 1px solid gray;box-sizing: border-box;top: 0;bottom: 0;left: 50%;z-index: -1;}#sk-container-id-1 div.sk-parallel-item {display: flex;flex-direction: column;z-index: 1;position: relative;background-color: white;}#sk-container-id-1 div.sk-parallel-item:first-child::after {align-self: flex-end;width: 50%;}#sk-container-id-1 div.sk-parallel-item:last-child::after {align-self: flex-start;width: 50%;}#sk-container-id-1 div.sk-parallel-item:only-child::after {width: 0;}#sk-container-id-1 div.sk-dashed-wrapped {border: 1px dashed gray;margin: 0 0.4em 0.5em 0.4em;box-sizing: border-box;padding-bottom: 0.4em;background-color: white;}#sk-container-id-1 div.sk-label label {font-family: monospace;font-weight: bold;display: inline-block;line-height: 1.2em;}#sk-container-id-1 div.sk-label-container {text-align: center;}#sk-container-id-1 div.sk-container {/* jupyter's `normalize.less` sets `[hidden] { display: none; }` but bootstrap.min.css set `[hidden] { display: none !important; }` so we also need the `!important` here to be able to override the default hidden behavior on the sphinx rendered scikit-learn.org. See: https://github.com/scikit-learn/scikit-learn/issues/21755 */display: inline-block !important;position: relative;}#sk-container-id-1 div.sk-text-repr-fallback {display: none;}</style><div id=\"sk-container-id-1\" class=\"sk-top-container\"><div class=\"sk-text-repr-fallback\"><pre>LinearRegression()</pre><b>In a Jupyter environment, please rerun this cell to show the HTML representation or trust the notebook. <br />On GitHub, the HTML representation is unable to render, please try loading this page with nbviewer.org.</b></div><div class=\"sk-container\" hidden><div class=\"sk-item\"><div class=\"sk-estimator sk-toggleable\"><input class=\"sk-toggleable__control sk-hidden--visually\" id=\"sk-estimator-id-1\" type=\"checkbox\" checked><label for=\"sk-estimator-id-1\" class=\"sk-toggleable__label sk-toggleable__label-arrow\">LinearRegression</label><div class=\"sk-toggleable__content\"><pre>LinearRegression()</pre></div></div></div></div></div>"
      ],
      "text/plain": [
       "LinearRegression()"
      ]
     },
     "execution_count": 40,
     "metadata": {},
     "output_type": "execute_result"
    }
   ],
   "source": [
    "lr.fit(x_train,y_train)\n"
   ]
  },
  {
   "cell_type": "code",
   "execution_count": 41,
   "id": "957fc4fd",
   "metadata": {},
   "outputs": [
    {
     "name": "stdout",
     "output_type": "stream",
     "text": [
      "0.935720193366311\n"
     ]
    }
   ],
   "source": [
    "pred_test_y=lr.predict(x_test)\n",
    "print(r2_score(y_test,pred_test_y))"
   ]
  },
  {
   "cell_type": "markdown",
   "id": "99d44897",
   "metadata": {},
   "source": [
    "Testing accuracy is 93.57%"
   ]
  },
  {
   "cell_type": "code",
   "execution_count": 42,
   "id": "d38ac0d5",
   "metadata": {},
   "outputs": [
    {
     "name": "stdout",
     "output_type": "stream",
     "text": [
      "At cross fold 2 the cv score is -0.3041290026123036\n",
      "At cross fold 3 the cv score is 0.2166741435800379\n",
      "At cross fold 4 the cv score is 0.38159815015460385\n",
      "At cross fold 5 the cv score is 0.3468077008799685\n",
      "At cross fold 6 the cv score is 0.28327583370262294\n",
      "At cross fold 7 the cv score is 0.20504519771220048\n",
      "At cross fold 8 the cv score is 0.3091896946827276\n",
      "At cross fold 9 the cv score is -4.810637310133234\n"
     ]
    }
   ],
   "source": [
    "#Finding best cross val score\n",
    "y_train_pred=lr.predict(x_train)\n",
    "Train_accuracy=r2_score(y_train,y_train_pred)\n",
    "Test_accuracy=r2_score(y_test,pred_test_y)\n",
    "\n",
    "\n",
    "from sklearn.model_selection import cross_val_score\n",
    "\n",
    "for j in range(2,10):\n",
    "    cv_score=cross_val_score(lr,x,y,cv=j)\n",
    "    cv_mean=cv_score.mean()\n",
    "    print(f\"At cross fold {j} the cv score is {cv_mean}\")"
   ]
  },
  {
   "cell_type": "markdown",
   "id": "0eeccd0b",
   "metadata": {},
   "source": [
    "# Cross Validation"
   ]
  },
  {
   "cell_type": "code",
   "execution_count": 43,
   "id": "1103a089",
   "metadata": {},
   "outputs": [
    {
     "name": "stdout",
     "output_type": "stream",
     "text": [
      "the cv score is  0.38159815015460385\n"
     ]
    }
   ],
   "source": [
    "lssscore_selected=cross_val_score(lr,x,y,cv=4).mean()\n",
    "print(\"the cv score is \",lssscore_selected)"
   ]
  },
  {
   "cell_type": "code",
   "execution_count": 44,
   "id": "2920cdc6",
   "metadata": {},
   "outputs": [
    {
     "data": {
      "image/png": "[encoded data removed]",
      "text/plain": [
       "<Figure size 576x432 with 1 Axes>"
      ]
     },
     "metadata": {
      "needs_background": "light"
     },
     "output_type": "display_data"
    }
   ],
   "source": [
    "plt.figure(figsize=(8,6))\n",
    "plt.scatter(x=y_test,y=pred_test_y,color='r')\n",
    "plt.plot(y_test,y_test,color='b')\n",
    "plt.xlabel('Actual wins',fontsize=14)\n",
    "plt.ylabel('predicted wins',fontsize=14)\n",
    "plt.title('Linear Regression',fontsize=18)\n",
    "plt.savefig('lr.png')\n",
    "plt.show()\n"
   ]
  },
  {
   "cell_type": "markdown",
   "id": "c51728e0",
   "metadata": {},
   "source": [
    "## Since the dataset is very small thats why our model is overfitting"
   ]
  },
  {
   "cell_type": "code",
   "execution_count": 45,
   "id": "e9bf53e1",
   "metadata": {},
   "outputs": [
    {
     "name": "stdout",
     "output_type": "stream",
     "text": [
      "MAE: 2.532783197395865\n",
      "MSE: 8.977746326505242\n",
      "RMSE: 2.9962887588657474\n"
     ]
    }
   ],
   "source": [
    "# Mean Absolute Error (MAE)\n",
    "print(\"MAE:\",mean_absolute_error(y_test,pred_test_y))\n",
    "\n",
    "#Mean Squared Error (MSE)\n",
    "print(\"MSE:\",mean_squared_error(y_test,pred_test_y))\n",
    "print(\"RMSE:\",np.sqrt(mean_squared_error(y_test,pred_test_y)))"
   ]
  },
  {
   "cell_type": "markdown",
   "id": "b10df2fd",
   "metadata": {},
   "source": [
    "## Hyperparameter Tuning\n"
   ]
  },
  {
   "cell_type": "markdown",
   "id": "01580407",
   "metadata": {},
   "source": [
    "### Using Grid Search Cv(Ridge)"
   ]
  },
  {
   "cell_type": "code",
   "execution_count": 46,
   "id": "b315d7fa",
   "metadata": {},
   "outputs": [],
   "source": [
    "from sklearn.model_selection import GridSearchCV\n",
    "from sklearn.linear_model import Lasso,Ridge\n"
   ]
  },
  {
   "cell_type": "code",
   "execution_count": 47,
   "id": "28ec335d",
   "metadata": {},
   "outputs": [
    {
     "name": "stdout",
     "output_type": "stream",
     "text": [
      "{'alpha': 10.0, 'max_iter': 100, 'random_state': 50, 'solver': 'sag'}\n"
     ]
    }
   ],
   "source": [
    "paramsRidge = {'alpha':[0.01,0.1,1.0,10.00],'solver':['auto','svd','cholesky','lsqr','sparse_cg','sag','saga'],'random_state':[1,50],'max_iter':[100,500,1000,250]}\n",
    "ridge = Ridge()\n",
    "clf = GridSearchCV(ridge,paramsRidge)\n",
    "clf.fit(x_train,y_train)\n",
    "print(clf.best_params_)"
   ]
  },
  {
   "cell_type": "code",
   "execution_count": 48,
   "id": "d495cd97",
   "metadata": {},
   "outputs": [],
   "source": [
    "ridge=clf.best_estimator_"
   ]
  },
  {
   "cell_type": "code",
   "execution_count": 49,
   "id": "dc3de9f5",
   "metadata": {},
   "outputs": [
    {
     "name": "stdout",
     "output_type": "stream",
     "text": [
      "Testing Accuracy 0.8792790529063295\n"
     ]
    }
   ],
   "source": [
    "pred_test_y=ridge.predict(x_test)\n",
    "\n",
    "print(\"Testing Accuracy\",r2_score(y_test,pred_test_y))\n"
   ]
  },
  {
   "cell_type": "code",
   "execution_count": 50,
   "id": "be1d56f6",
   "metadata": {},
   "outputs": [],
   "source": [
    "from sklearn.model_selection import cross_val_score"
   ]
  },
  {
   "cell_type": "code",
   "execution_count": 51,
   "id": "b31ee1b9",
   "metadata": {},
   "outputs": [
    {
     "name": "stdout",
     "output_type": "stream",
     "text": [
      "the cv score is  0.6803059021247735\n"
     ]
    }
   ],
   "source": [
    "lssscore_selected=cross_val_score(ridge,x,y,cv=4).mean()\n",
    "print(\"the cv score is \",lssscore_selected)"
   ]
  },
  {
   "cell_type": "code",
   "execution_count": 52,
   "id": "cf1f8060",
   "metadata": {},
   "outputs": [
    {
     "name": "stdout",
     "output_type": "stream",
     "text": [
      "MAE: 3.0422624278180215\n",
      "MSE: 16.86069227741598\n",
      "RMSE: 4.106177331462437\n"
     ]
    }
   ],
   "source": [
    "# Mean Absolute Error (MAE)\n",
    "print(\"MAE:\",mean_absolute_error(y_test,pred_test_y))\n",
    "\n",
    "#Mean Squared Error (MSE)\n",
    "print(\"MSE:\",mean_squared_error(y_test,pred_test_y))\n",
    "print(\"RMSE:\",np.sqrt(mean_squared_error(y_test,pred_test_y)))"
   ]
  },
  {
   "cell_type": "markdown",
   "id": "3160ad38",
   "metadata": {},
   "source": [
    "### Using Grid Search Cv(Lasso)"
   ]
  },
  {
   "cell_type": "code",
   "execution_count": 53,
   "id": "4e804460",
   "metadata": {},
   "outputs": [
    {
     "name": "stdout",
     "output_type": "stream",
     "text": [
      "{'alpha': 1, 'max_iter': 10, 'random_state': 0}\n"
     ]
    }
   ],
   "source": [
    "parameters={'alpha':[0.0001,0.001,0.01,.1,1,10],\n",
    "            'random_state':list(range(0,10)),\n",
    "            'max_iter':[10,100,500,1000]}\n",
    "ls=Lasso()\n",
    "clf=GridSearchCV(ls,parameters)\n",
    "clf.fit(x_train,y_train)\n",
    "print(clf.best_params_)\n"
   ]
  },
  {
   "cell_type": "code",
   "execution_count": 54,
   "id": "13914953",
   "metadata": {},
   "outputs": [],
   "source": [
    "ls=clf.best_estimator_"
   ]
  },
  {
   "cell_type": "code",
   "execution_count": 55,
   "id": "010859df",
   "metadata": {},
   "outputs": [
    {
     "name": "stdout",
     "output_type": "stream",
     "text": [
      "Testing Accuracy 0.9228393139682612\n"
     ]
    }
   ],
   "source": [
    "pred_test_y=ls.predict(x_test)\n",
    "\n",
    "print(\"Testing Accuracy\",r2_score(y_test,pred_test_y))\n"
   ]
  },
  {
   "cell_type": "code",
   "execution_count": 56,
   "id": "8a2a30bd",
   "metadata": {},
   "outputs": [
    {
     "name": "stdout",
     "output_type": "stream",
     "text": [
      "the cv score is  0.7705042053909434\n"
     ]
    }
   ],
   "source": [
    "lssscore_selected=cross_val_score(ls,x,y,cv=4).mean()\n",
    "print(\"the cv score is \",lssscore_selected)"
   ]
  },
  {
   "cell_type": "code",
   "execution_count": 57,
   "id": "fa896d4c",
   "metadata": {},
   "outputs": [
    {
     "name": "stdout",
     "output_type": "stream",
     "text": [
      "MAE: 2.497096125089733\n",
      "MSE: 10.776775815766173\n",
      "RMSE: 3.28279999630897\n"
     ]
    }
   ],
   "source": [
    "# Mean Absolute Error (MAE)\n",
    "print(\"MAE:\",mean_absolute_error(y_test,pred_test_y))\n",
    "\n",
    "#Mean Squared Error (MSE)\n",
    "print(\"MSE:\",mean_squared_error(y_test,pred_test_y))\n",
    "print(\"RMSE:\",np.sqrt(mean_squared_error(y_test,pred_test_y)))"
   ]
  },
  {
   "cell_type": "markdown",
   "id": "91721525",
   "metadata": {},
   "source": [
    "# Using Random Forest "
   ]
  },
  {
   "cell_type": "code",
   "execution_count": 58,
   "id": "1612e607",
   "metadata": {},
   "outputs": [],
   "source": [
    "from sklearn.ensemble import RandomForestRegressor\n"
   ]
  },
  {
   "cell_type": "code",
   "execution_count": 59,
   "id": "89fa1cd2",
   "metadata": {},
   "outputs": [
    {
     "name": "stdout",
     "output_type": "stream",
     "text": [
      "0.7226769689737471\n"
     ]
    }
   ],
   "source": [
    "rf=RandomForestRegressor()\n",
    "\n",
    "rf.fit(x_train,y_train)\n",
    "\n",
    "\n",
    "pred_test_y=rf.predict(x_test)\n",
    "print(r2_score(y_test,pred_test_y))"
   ]
  },
  {
   "cell_type": "markdown",
   "id": "86197873",
   "metadata": {},
   "source": [
    "Testing Accuracy is 72.26%"
   ]
  },
  {
   "cell_type": "markdown",
   "id": "a6e36b2b",
   "metadata": {},
   "source": [
    "### Hyperparameter Tuning"
   ]
  },
  {
   "cell_type": "code",
   "execution_count": 60,
   "id": "9e8c531c",
   "metadata": {},
   "outputs": [],
   "source": [
    "params={'n_estimators':[10,20],\n",
    "       'max_depth':[10,20],\n",
    "       'min_samples_split':[3,4,6,7,8]}\n"
   ]
  },
  {
   "cell_type": "code",
   "execution_count": 61,
   "id": "f0e75db4",
   "metadata": {},
   "outputs": [
    {
     "name": "stdout",
     "output_type": "stream",
     "text": [
      "{'max_depth': 20, 'min_samples_split': 3, 'n_estimators': 20}\n"
     ]
    }
   ],
   "source": [
    "clf=GridSearchCV(rf,params)\n",
    "clf.fit(x_train,y_train)\n",
    "print(clf.best_params_)"
   ]
  },
  {
   "cell_type": "code",
   "execution_count": 62,
   "id": "be900613",
   "metadata": {},
   "outputs": [],
   "source": [
    "rf=clf.best_estimator_"
   ]
  },
  {
   "cell_type": "code",
   "execution_count": 63,
   "id": "e360c11b",
   "metadata": {
    "scrolled": true
   },
   "outputs": [
    {
     "name": "stdout",
     "output_type": "stream",
     "text": [
      "Testing Accuracy 0.6741754052307076\n"
     ]
    }
   ],
   "source": [
    "pred_test_y=rf.predict(x_test)\n",
    "\n",
    "print(\"Testing Accuracy\",r2_score(y_test,pred_test_y))\n"
   ]
  },
  {
   "cell_type": "code",
   "execution_count": 64,
   "id": "5a378e9b",
   "metadata": {},
   "outputs": [
    {
     "name": "stdout",
     "output_type": "stream",
     "text": [
      "the cv score is  0.38913303865642446\n"
     ]
    }
   ],
   "source": [
    "lssscore_selected=cross_val_score(rf,x,y,cv=4).mean()\n",
    "print(\"the cv score is \",lssscore_selected)"
   ]
  },
  {
   "cell_type": "markdown",
   "id": "8cd14a15",
   "metadata": {},
   "source": [
    "# Using Adaptive Boosting (Ada Boost)"
   ]
  },
  {
   "cell_type": "code",
   "execution_count": 65,
   "id": "a0d740c9",
   "metadata": {},
   "outputs": [],
   "source": [
    "from sklearn.ensemble import AdaBoostRegressor"
   ]
  },
  {
   "cell_type": "code",
   "execution_count": 66,
   "id": "443cc940",
   "metadata": {},
   "outputs": [
    {
     "name": "stdout",
     "output_type": "stream",
     "text": [
      "0.7439399690998212\n"
     ]
    }
   ],
   "source": [
    "ada=AdaBoostRegressor()\n",
    "\n",
    "ada.fit(x_train,y_train)\n",
    "\n",
    "\n",
    "pred_test_y=ada.predict(x_test)\n",
    "print(r2_score(y_test,pred_test_y))"
   ]
  },
  {
   "cell_type": "markdown",
   "id": "256c18a0",
   "metadata": {},
   "source": [
    "Testing Accuracy is 74.03"
   ]
  },
  {
   "cell_type": "markdown",
   "id": "036abfc6",
   "metadata": {},
   "source": [
    "### Hyperparameter Tuning\n"
   ]
  },
  {
   "cell_type": "code",
   "execution_count": 67,
   "id": "026a7a03",
   "metadata": {},
   "outputs": [],
   "source": [
    "params={'n_estimators':[20,30,40,50,60,70],\n",
    "       'learning_rate':[0.15,0.2,0.25,0.3,0.35,0.5,0.6],\n",
    "       'random_state':[1,100]}\n"
   ]
  },
  {
   "cell_type": "code",
   "execution_count": 68,
   "id": "f6c17b66",
   "metadata": {},
   "outputs": [
    {
     "name": "stdout",
     "output_type": "stream",
     "text": [
      "{'learning_rate': 0.3, 'n_estimators': 60, 'random_state': 100}\n"
     ]
    }
   ],
   "source": [
    "clf=GridSearchCV(ada,params)\n",
    "clf.fit(x_train,y_train)\n",
    "print(clf.best_params_)"
   ]
  },
  {
   "cell_type": "code",
   "execution_count": 69,
   "id": "09bb0e72",
   "metadata": {},
   "outputs": [],
   "source": [
    "ada=clf.best_estimator_"
   ]
  },
  {
   "cell_type": "code",
   "execution_count": 70,
   "id": "50d5db33",
   "metadata": {},
   "outputs": [
    {
     "name": "stdout",
     "output_type": "stream",
     "text": [
      "Testing Accuracy 0.7591169451073985\n"
     ]
    }
   ],
   "source": [
    "pred_test_y=ada.predict(x_test)\n",
    "\n",
    "print(\"Testing Accuracy\",r2_score(y_test,pred_test_y))\n",
    "\n",
    "\n"
   ]
  },
  {
   "cell_type": "code",
   "execution_count": 71,
   "id": "a4c9db11",
   "metadata": {},
   "outputs": [
    {
     "name": "stdout",
     "output_type": "stream",
     "text": [
      "the cv score is  0.5778342045151621\n"
     ]
    }
   ],
   "source": [
    "lssscore_selected=cross_val_score(ada,x,y,cv=4).mean()\n",
    "print(\"the cv score is \",lssscore_selected)"
   ]
  },
  {
   "cell_type": "markdown",
   "id": "6adbbc3c",
   "metadata": {},
   "source": [
    "# Using KNN"
   ]
  },
  {
   "cell_type": "code",
   "execution_count": 72,
   "id": "60080600",
   "metadata": {},
   "outputs": [],
   "source": [
    "from sklearn.neighbors import KNeighborsRegressor"
   ]
  },
  {
   "cell_type": "code",
   "execution_count": 73,
   "id": "32caf9c8",
   "metadata": {},
   "outputs": [
    {
     "name": "stdout",
     "output_type": "stream",
     "text": [
      "0.6668735083532218\n"
     ]
    }
   ],
   "source": [
    "knn=KNeighborsRegressor()\n",
    "\n",
    "knn.fit(x_train,y_train)\n",
    "\n",
    "\n",
    "pred_test_y=knn.predict(x_test)\n",
    "print(r2_score(y_test,pred_test_y))"
   ]
  },
  {
   "cell_type": "markdown",
   "id": "cd07bb08",
   "metadata": {},
   "source": [
    "### Hyperparameter Tuning"
   ]
  },
  {
   "cell_type": "code",
   "execution_count": 74,
   "id": "efe1b12b",
   "metadata": {},
   "outputs": [],
   "source": [
    "params={'leaf_size':[2,3,4,5,6,7,8,9],\n",
    "       'n_neighbors':[3,5,7,9],\n",
    "       'algorithm':['kd_tree','brute','ball_tree']}\n",
    "\n"
   ]
  },
  {
   "cell_type": "code",
   "execution_count": 75,
   "id": "f50cf2b2",
   "metadata": {},
   "outputs": [
    {
     "name": "stdout",
     "output_type": "stream",
     "text": [
      "{'algorithm': 'kd_tree', 'leaf_size': 2, 'n_neighbors': 3}\n"
     ]
    }
   ],
   "source": [
    "clf=GridSearchCV(knn,params)\n",
    "clf.fit(x_train,y_train)\n",
    "print(clf.best_params_)"
   ]
  },
  {
   "cell_type": "code",
   "execution_count": 76,
   "id": "4490cc2a",
   "metadata": {},
   "outputs": [],
   "source": [
    "knn=clf.best_estimator_"
   ]
  },
  {
   "cell_type": "code",
   "execution_count": 77,
   "id": "b49573d0",
   "metadata": {},
   "outputs": [
    {
     "name": "stdout",
     "output_type": "stream",
     "text": [
      "Testing Accuracy 0.6295412357464863\n"
     ]
    }
   ],
   "source": [
    "pred_test_y=knn.predict(x_test)\n",
    "\n",
    "print(\"Testing Accuracy\",r2_score(y_test,pred_test_y))\n"
   ]
  },
  {
   "cell_type": "code",
   "execution_count": 78,
   "id": "ffd8afaf",
   "metadata": {},
   "outputs": [
    {
     "name": "stdout",
     "output_type": "stream",
     "text": [
      "the cv score is  0.18278590810456502\n"
     ]
    }
   ],
   "source": [
    "lssscore_selected=cross_val_score(knn,x,y,cv=4).mean()\n",
    "print(\"the cv score is \",lssscore_selected)"
   ]
  },
  {
   "cell_type": "markdown",
   "id": "706bebfd",
   "metadata": {},
   "source": [
    "# Conclusion"
   ]
  },
  {
   "cell_type": "markdown",
   "id": "ac6354dd",
   "metadata": {},
   "source": [
    "We can observe that\n",
    "\n",
    "Linear Regression\n",
    "\n",
    "   ----Ridge Regression-------  Testing Accuracy:87.92 and Cross val score:68.03\n",
    "   ----Lasso Regression-------  Testing Accuracy:92.28 and Cross val score:77.05\n",
    "\n",
    "\n",
    "Random Froest\n",
    "\n",
    "     ------Testing Accuracy:67.41 and Cross val score:38.91--------\n",
    "\n",
    "Ada Boosting\n",
    "\n",
    "     ------Testing Accuracy:75.91 and Cross val score:57.78--------\n",
    "\n",
    "KNN\n",
    "\n",
    "    ------ Testing Accuracy:62.95 and Cross val score:18.27--------\n",
    " "
   ]
  },
  {
   "cell_type": "markdown",
   "id": "e6c7c93d",
   "metadata": {},
   "source": [
    "### We can conclude that Lasso Regression is the best model as it has highest testing accuracy"
   ]
  },
  {
   "cell_type": "markdown",
   "id": "3b9cb50e",
   "metadata": {},
   "source": [
    "# Saving the best model"
   ]
  },
  {
   "cell_type": "code",
   "execution_count": 79,
   "id": "bba2c85c",
   "metadata": {},
   "outputs": [],
   "source": [
    "import pickle\n",
    "\n",
    "pickle.dump(ls,open('regmodel_baseball','wb'))"
   ]
  },
  {
   "cell_type": "code",
   "execution_count": null,
   "id": "91e09315",
   "metadata": {},
   "outputs": [],
   "source": []
  }
 ],
 "metadata": {
  "kernelspec": {
   "display_name": "Python 3 (ipykernel)",
   "language": "python",
   "name": "python3"
  },
  "language_info": {
   "codemirror_mode": {
    "name": "ipython",
    "version": 3
   },
   "file_extension": ".py",
   "mimetype": "text/x-python",
   "name": "python",
   "nbconvert_exporter": "python",
   "pygments_lexer": "ipython3",
   "version": "3.9.12"
  }
 },
 "nbformat": 4,
 "nbformat_minor": 5
}
